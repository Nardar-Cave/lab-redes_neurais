{
  "nbformat": 4,
  "nbformat_minor": 0,
  "metadata": {
    "colab": {
      "provenance": []
    },
    "kernelspec": {
      "name": "python3",
      "display_name": "Python 3"
    },
    "language_info": {
      "name": "python"
    }
  },
  "cells": [
    {
      "cell_type": "markdown",
      "source": [
        "# Redes Neurais Artificiais"
      ],
      "metadata": {
        "id": "_iHaEpaLShxD"
      }
    },
    {
      "cell_type": "markdown",
      "source": [
        "### Descriçao\n",
        "\n",
        "---\n",
        "1. O objetivo deste notebook é a construir sua primeira rede neural.\n",
        "2. Utilizaremos o conjunto de dados proposto no [gist](https://gist.githubusercontent.com/batestin1/e09def5cbd3732e345029f5c88155182/raw/a14ff6964c3fbeeca3b7f17ec32102f0ade14828/gistfile1.txt)\n",
        "\n",
        "3. O problema consiste em prever e classificar a perda de clientes que a empresa esta sofrendo. Investigar os motivos para isso.\n",
        "---"
      ],
      "metadata": {
        "id": "8sWWwgp_UC5N"
      }
    },
    {
      "cell_type": "markdown",
      "source": [
        "### Dicionário\n",
        "\n",
        "\n",
        "Fields\t                                                  | Type  \t  |    Description                              |\n",
        "----------------------------------------------------------|:---------:|:-------------------------------------------:|\n",
        "RowNumber \t  \t\t\t\t\t\t\t\t\t\t  \t  |int     | número da linha |\n",
        "CustomerId\t\t\t\t\t\t\t\t\t\t\t\t\t\t  |int    | número do id                         |\n",
        "Surname\t\t     \t\t\t\t\t\t\t\t\t\t  |string     | nome da pessoa \t               |\n",
        "CreditScore | int | ranking do crédito (igual serasa)\n",
        "Geography | string | Região em que existe\n",
        "Gender | string | Genero\n",
        "Age | int | idade do cliente\n",
        " Tenure  | int | Posse do cliente (0 ou 1)\n",
        "  Balance  | float64 | Balanço da conta\n",
        "    NumOfProducts  | int | Número de produtos comprados\n",
        "      HasCrCard  | int | digito final do cartao\n",
        "        IsActiveMember  | int | É um cliente ativo (0 para sim, 1 para não)\n",
        "                EstimatedSalary  | float | Salário base (anualmente)\n",
        "                Exited  | int | Se o cliente saiu ou não da empresa (0 para sim, 1 para não)\n",
        "\n",
        "  "
      ],
      "metadata": {
        "id": "zPvkUsRkUcOi"
      }
    },
    {
      "cell_type": "markdown",
      "source": [
        "# Instalação dos pacotes"
      ],
      "metadata": {
        "id": "Pnpl071jbWl9"
      }
    },
    {
      "cell_type": "code",
      "source": [
        "!pip install pandas numpy scikit-learn keras"
      ],
      "metadata": {
        "id": "ymVg-V9QbYWL"
      },
      "execution_count": null,
      "outputs": []
    },
    {
      "cell_type": "markdown",
      "source": [
        "# Documentação\n",
        "\n",
        "1. ** Pandas ** -> [Link](https://pandas.pydata.org/docs/)\n",
        "2. ** Numpy ** -> [Link](https://numpy.org/doc/)\n",
        "4. ** Scikit Learn ** -> [Link](https://scikit-learn.org/stable/)\n",
        "5. ** Keras ** -> [Link](https://keras.io/api/)\n",
        "6. ** Tensor Flow ** -> [Tensor Flow](https://www.tensorflow.org/api_docs/python/tf/keras)\n",
        "7. ** JobLib ** -> [JobLib](https://joblib.readthedocs.io/en/stable/)\n"
      ],
      "metadata": {
        "id": "IgtQLZFGbjK4"
      }
    },
    {
      "cell_type": "markdown",
      "source": [
        "# Importando as Bibliotecas"
      ],
      "metadata": {
        "id": "2Yp4zCoUbs7m"
      }
    },
    {
      "cell_type": "code",
      "source": [
        "import os #para manipular pastas e diretórios\n",
        "import pandas as pd #para manipulacao de dados\n",
        "import numpy as np # para criação de matrizes\n",
        "\n",
        "from sklearn.preprocessing import LabelEncoder, OneHotEncoder, StandardScaler # para pre processamento de ml\n",
        "from sklearn.compose import make_column_transformer #para efetivar a mudanca de oneHotEncoder\n",
        "from sklearn.model_selection import train_test_split #para separar treino e teste\n",
        "from sklearn.metrics import confusion_matrix #para avaliar nosso modelo\n",
        "\n",
        "\n",
        "from keras.models import Sequential #para criar sequencias na RNA\n",
        "from keras.layers import Dense # para funcao de ativacao\n",
        "\n",
        "from keras.models import load_model #para carregar modelos\n",
        "\n"
      ],
      "metadata": {
        "id": "jxzio59AbuU4"
      },
      "execution_count": null,
      "outputs": []
    },
    {
      "cell_type": "markdown",
      "source": [
        "# Obtendo o dataset"
      ],
      "metadata": {
        "id": "mgq5fiEMcbn3"
      }
    },
    {
      "cell_type": "code",
      "source": [
        "df = pd.read_csv('https://gist.githubusercontent.com/batestin1/e09def5cbd3732e345029f5c88155182/raw/a14ff6964c3fbeeca3b7f17ec32102f0ade14828/gistfile1.txt')\n",
        "\n",
        "df.head()"
      ],
      "metadata": {
        "id": "7d3UXTNoSj73"
      },
      "execution_count": null,
      "outputs": []
    },
    {
      "cell_type": "markdown",
      "source": [
        "### Conhecendo o dataset"
      ],
      "metadata": {
        "id": "Re0kgl5GcjaE"
      }
    },
    {
      "cell_type": "code",
      "source": [
        "df.info()"
      ],
      "metadata": {
        "id": "HDHby9b3Tnjb"
      },
      "execution_count": null,
      "outputs": []
    },
    {
      "cell_type": "markdown",
      "source": [
        "##### Pre Processamento dos dados"
      ],
      "metadata": {
        "id": "sphW4J79ct9S"
      }
    },
    {
      "cell_type": "markdown",
      "source": [],
      "metadata": {
        "id": "g0mhA1a2c8ah"
      }
    },
    {
      "cell_type": "code",
      "source": [
        "#separando os dados em X e y\n",
        "X = df.iloc[:, 3:13].values\n",
        "y = df.iloc[:, 13].values\n"
      ],
      "metadata": {
        "id": "h8mWoeBJUiJs"
      },
      "execution_count": null,
      "outputs": []
    },
    {
      "cell_type": "code",
      "source": [
        "# Transformação de Dados Categóricos\n",
        "labelencoder_X_1 = LabelEncoder()\n",
        "X[:, 1] = labelencoder_X_1.fit_transform(X[:, 1])\n",
        "labelencoder_X_2 = LabelEncoder()\n",
        "X[:, 2] = labelencoder_X_2.fit_transform(X[:, 2])\n",
        "onehotencoder= make_column_transformer((OneHotEncoder(categories='auto', sparse = False), [1]), remainder=\"passthrough\")\n",
        "X=onehotencoder.fit_transform(X)\n",
        "X = X[:,1:]"
      ],
      "metadata": {
        "id": "ys6u3nQNc_bA"
      },
      "execution_count": null,
      "outputs": []
    },
    {
      "cell_type": "markdown",
      "source": [
        "#### Dividir dados em treino e teste"
      ],
      "metadata": {
        "id": "sX_UanypdKgV"
      }
    },
    {
      "cell_type": "code",
      "source": [
        "X_train, X_test, y_train, y_test = train_test_split(X, y, test_size = 0.2, random_state = 0)"
      ],
      "metadata": {
        "id": "MRL0TSXedLu6"
      },
      "execution_count": null,
      "outputs": []
    },
    {
      "cell_type": "markdown",
      "source": [
        "#### padronizando os dados"
      ],
      "metadata": {
        "id": "h7cpFlL1dTZY"
      }
    },
    {
      "cell_type": "code",
      "source": [
        "\n",
        "sc = StandardScaler()\n",
        "X_train = sc.fit_transform(X_train)\n",
        "X_test = sc.transform(X_test)"
      ],
      "metadata": {
        "id": "HtW-ADr9dOJd"
      },
      "execution_count": null,
      "outputs": []
    },
    {
      "cell_type": "markdown",
      "source": [
        "# Criando nossa RNA"
      ],
      "metadata": {
        "id": "CIt6mCoddY7z"
      }
    },
    {
      "cell_type": "code",
      "source": [
        "classifier = Sequential()\n",
        "#adicionando Camadas\n",
        "classifier.add(Dense(units = 6, kernel_initializer = 'uniform', activation = 'relu', input_dim = 11))\n",
        "classifier.add(Dense(units = 6, kernel_initializer = 'uniform', activation = 'relu'))\n",
        "classifier.add(Dense(units = 1, kernel_initializer = 'uniform', activation = 'sigmoid'))\n",
        "#Compilando\n",
        "classifier.compile(optimizer = 'adam', loss = 'binary_crossentropy', metrics = ['accuracy'])\n",
        "#Treinando\n",
        "classifier.fit(X_train, y_train, batch_size = 10, epochs = 100)"
      ],
      "metadata": {
        "id": "011P2pZ7dWBS"
      },
      "execution_count": null,
      "outputs": []
    },
    {
      "cell_type": "markdown",
      "source": [
        "#### Prevendo dados de teste"
      ],
      "metadata": {
        "id": "eH011IvLderk"
      }
    },
    {
      "cell_type": "code",
      "source": [
        "y_pred = classifier.predict(X_test)\n",
        "y_pred = (y_pred > 0.5)"
      ],
      "metadata": {
        "id": "y2MyyLc2djNV"
      },
      "execution_count": null,
      "outputs": []
    },
    {
      "cell_type": "markdown",
      "source": [
        "#### Avaliando o modelo"
      ],
      "metadata": {
        "id": "e_Qem_dzdmbl"
      }
    },
    {
      "cell_type": "code",
      "source": [
        "cm = confusion_matrix(y_test, y_pred)\n",
        "cm"
      ],
      "metadata": {
        "id": "WUfe2JZSdoBj"
      },
      "execution_count": null,
      "outputs": []
    },
    {
      "cell_type": "markdown",
      "source": [
        "# Salvando o modelo"
      ],
      "metadata": {
        "id": "diaaPnLcd8AU"
      }
    },
    {
      "cell_type": "code",
      "source": [
        "folder = 'rna/'\n",
        "\n",
        "# Verifica se o diretório existe e, se não existir, cria o diretório\n",
        "if not os.path.exists(folder):\n",
        "    os.makedirs(folder)\n",
        "\n",
        "# Salva o modelo no diretório especificado\n",
        "classifier.save(os.path.join(folder, 'rede_neural_one.h5'))"
      ],
      "metadata": {
        "id": "V9F61yJ7d-hm"
      },
      "execution_count": null,
      "outputs": []
    },
    {
      "cell_type": "markdown",
      "source": [
        "# Importando o modelo para uso"
      ],
      "metadata": {
        "id": "dAoh--T2fa1w"
      }
    },
    {
      "cell_type": "code",
      "source": [
        "model = load_model(os.path.join(folder, 'rede_neural_one.h5'))\n",
        "y_pred = model.predict(X_test)\n",
        "y_pred = (y_pred > 0.7)"
      ],
      "metadata": {
        "id": "zBw0q3Owd_bz"
      },
      "execution_count": null,
      "outputs": []
    },
    {
      "cell_type": "code",
      "source": [
        "y_pred\n",
        "cm = confusion_matrix(y_test, y_pred)\n",
        "cm"
      ],
      "metadata": {
        "id": "peP5Nd3tg2aL"
      },
      "execution_count": null,
      "outputs": []
    }
  ]
}