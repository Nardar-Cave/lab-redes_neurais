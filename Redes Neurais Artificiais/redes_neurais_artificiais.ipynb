{
  "cells": [
    {
      "cell_type": "markdown",
      "metadata": {
        "id": "_iHaEpaLShxD"
      },
      "source": [
        "# Redes Neurais Artificiais"
      ]
    },
    {
      "cell_type": "markdown",
      "metadata": {
        "id": "8sWWwgp_UC5N"
      },
      "source": [
        "### Descriçao\n",
        "\n",
        "---\n",
        "1. O objetivo deste notebook é a construir sua primeira rede neural.\n",
        "2. Utilizaremos o conjunto de dados proposto no [gist](https://gist.githubusercontent.com/batestin1/e09def5cbd3732e345029f5c88155182/raw/a14ff6964c3fbeeca3b7f17ec32102f0ade14828/gistfile1.txt)\n",
        "\n",
        "3. O problema consiste em prever e classificar a perda de clientes que a empresa esta sofrendo. Investigar os motivos para isso.\n",
        "---"
      ]
    },
    {
      "cell_type": "markdown",
      "metadata": {
        "id": "zPvkUsRkUcOi"
      },
      "source": [
        "### Dicionário\n",
        "\n",
        "\n",
        "Fields\t                                                  | Type  \t  |    Description                              |\n",
        "----------------------------------------------------------|:---------:|:-------------------------------------------:|\n",
        "RowNumber \t  \t\t\t\t\t\t\t\t\t\t  \t  |int     | número da linha |\n",
        "CustomerId\t\t\t\t\t\t\t\t\t\t\t\t\t\t  |int    | número do id                         |\n",
        "Surname\t\t     \t\t\t\t\t\t\t\t\t\t  |string     | nome da pessoa \t               |\n",
        "CreditScore | int | ranking do crédito (igual serasa)\n",
        "Geography | string | Região em que existe\n",
        "Gender | string | Genero\n",
        "Age | int | idade do cliente\n",
        "Tenure  | int | Posse do cliente (0 ou 1)\n",
        "Balance  | float64 | Balanço da conta\n",
        "NumOfProducts  | int | Número de produtos comprados\n",
        "HasCrCard  | int | digito final do cartao\n",
        "IsActiveMember  | int | É um cliente ativo (0 para sim, 1 para não)\n",
        "EstimatedSalary  | float | Salário base (anualmente)\n",
        "Exited  | int | Se o cliente saiu ou não da empresa (0 para sim, 1 para não)\n",
        "\n",
        "  "
      ]
    },
    {
      "cell_type": "markdown",
      "metadata": {
        "id": "Pnpl071jbWl9"
      },
      "source": [
        "# Instalação dos pacotes"
      ]
    },
    {
      "cell_type": "code",
      "execution_count": null,
      "metadata": {
        "id": "ymVg-V9QbYWL"
      },
      "outputs": [],
      "source": [
        "!pip install pandas numpy scikit-learn keras"
      ]
    },
    {
      "cell_type": "markdown",
      "metadata": {
        "id": "IgtQLZFGbjK4"
      },
      "source": [
        "# Documentação\n",
        "\n",
        "1. ** Pandas ** -> [Link](https://pandas.pydata.org/docs/)\n",
        "2. ** Numpy ** -> [Link](https://numpy.org/doc/)\n",
        "4. ** Scikit Learn ** -> [Link](https://scikit-learn.org/stable/)\n",
        "5. ** Keras ** -> [Link](https://keras.io/api/)\n",
        "6. ** Tensor Flow ** -> [Tensor Flow](https://www.tensorflow.org/api_docs/python/tf/keras)\n",
        "7. ** JobLib ** -> [JobLib](https://joblib.readthedocs.io/en/stable/)\n"
      ]
    },
    {
      "cell_type": "markdown",
      "metadata": {
        "id": "2Yp4zCoUbs7m"
      },
      "source": [
        "# Importando as Bibliotecas"
      ]
    },
    {
      "cell_type": "code",
      "execution_count": null,
      "metadata": {
        "id": "jxzio59AbuU4"
      },
      "outputs": [],
      "source": [
        "import os #para manipular pastas e diretórios\n",
        "import pandas as pd #para manipulacao de dados\n",
        "import numpy as np # para criação de matrizes\n",
        "\n",
        "from sklearn.preprocessing import LabelEncoder, OneHotEncoder, StandardScaler # para pre processamento de ml\n",
        "from sklearn.compose import make_column_transformer #para efetivar a mudanca de oneHotEncoder\n",
        "from sklearn.model_selection import train_test_split #para separar treino e teste\n",
        "from sklearn.metrics import confusion_matrix #para avaliar nosso modelo\n",
        "\n",
        "\n",
        "from keras.models import Sequential #para criar sequencias na RNA\n",
        "from keras.layers import Dense # para funcao de ativacao\n",
        "\n",
        "from keras.models import load_model #para carregar modelos\n",
        "\n"
      ]
    },
    {
      "cell_type": "markdown",
      "metadata": {
        "id": "mgq5fiEMcbn3"
      },
      "source": [
        "# Obtendo o dataset"
      ]
    },
    {
      "cell_type": "code",
      "execution_count": null,
      "metadata": {
        "id": "7d3UXTNoSj73"
      },
      "outputs": [],
      "source": [
        "df = pd.read_csv('https://gist.githubusercontent.com/batestin1/e09def5cbd3732e345029f5c88155182/raw/a14ff6964c3fbeeca3b7f17ec32102f0ade14828/gistfile1.txt')\n",
        "\n",
        "df.head()"
      ]
    },
    {
      "cell_type": "markdown",
      "metadata": {
        "id": "Re0kgl5GcjaE"
      },
      "source": [
        "### Conhecendo o dataset"
      ]
    },
    {
      "cell_type": "code",
      "execution_count": null,
      "metadata": {
        "id": "HDHby9b3Tnjb"
      },
      "outputs": [],
      "source": [
        "df.info()"
      ]
    },
    {
      "cell_type": "markdown",
      "metadata": {
        "id": "sphW4J79ct9S"
      },
      "source": [
        "##### Pre Processamento dos dados"
      ]
    },
    {
      "cell_type": "markdown",
      "metadata": {
        "id": "g0mhA1a2c8ah"
      },
      "source": []
    },
    {
      "cell_type": "code",
      "execution_count": null,
      "metadata": {
        "id": "h8mWoeBJUiJs"
      },
      "outputs": [],
      "source": [
        "#separando os dados em X e y\n",
        "X = df.iloc[:, 3:13].values\n",
        "y = df.iloc[:, 13].values\n"
      ]
    },
    {
      "cell_type": "code",
      "execution_count": null,
      "metadata": {
        "id": "ys6u3nQNc_bA"
      },
      "outputs": [],
      "source": [
        "# Transformação de Dados Categóricos\n",
        "labelencoder_X_1 = LabelEncoder()\n",
        "X[:, 1] = labelencoder_X_1.fit_transform(X[:, 1])\n",
        "labelencoder_X_2 = LabelEncoder()\n",
        "X[:, 2] = labelencoder_X_2.fit_transform(X[:, 2])\n",
        "onehotencoder= make_column_transformer((OneHotEncoder(categories='auto', sparse = False), [1]), remainder=\"passthrough\")\n",
        "X=onehotencoder.fit_transform(X)\n",
        "X = X[:,1:]"
      ]
    },
    {
      "cell_type": "markdown",
      "metadata": {
        "id": "sX_UanypdKgV"
      },
      "source": [
        "#### Dividir dados em treino e teste"
      ]
    },
    {
      "cell_type": "code",
      "execution_count": null,
      "metadata": {
        "id": "MRL0TSXedLu6"
      },
      "outputs": [],
      "source": [
        "X_train, X_test, y_train, y_test = train_test_split(X, y, test_size = 0.2, random_state = 0)"
      ]
    },
    {
      "cell_type": "markdown",
      "metadata": {
        "id": "h7cpFlL1dTZY"
      },
      "source": [
        "#### padronizando os dados"
      ]
    },
    {
      "cell_type": "code",
      "execution_count": null,
      "metadata": {
        "id": "HtW-ADr9dOJd"
      },
      "outputs": [],
      "source": [
        "\n",
        "sc = StandardScaler()\n",
        "X_train = sc.fit_transform(X_train)\n",
        "X_test = sc.transform(X_test)"
      ]
    },
    {
      "cell_type": "markdown",
      "metadata": {
        "id": "CIt6mCoddY7z"
      },
      "source": [
        "# Criando nossa RNA"
      ]
    },
    {
      "cell_type": "code",
      "execution_count": null,
      "metadata": {
        "id": "011P2pZ7dWBS"
      },
      "outputs": [],
      "source": [
        "classifier = Sequential()\n",
        "#adicionando Camadas\n",
        "classifier.add(Dense(units = 6, kernel_initializer = 'uniform', activation = 'relu', input_dim = 11))\n",
        "classifier.add(Dense(units = 6, kernel_initializer = 'uniform', activation = 'relu'))\n",
        "classifier.add(Dense(units = 1, kernel_initializer = 'uniform', activation = 'sigmoid'))\n",
        "#Compilando\n",
        "classifier.compile(optimizer = 'adam', loss = 'binary_crossentropy', metrics = ['accuracy'])\n",
        "#Treinando\n",
        "classifier.fit(X_train, y_train, batch_size = 10, epochs = 100)"
      ]
    },
    {
      "cell_type": "markdown",
      "metadata": {
        "id": "eH011IvLderk"
      },
      "source": [
        "#### Prevendo dados de teste"
      ]
    },
    {
      "cell_type": "code",
      "execution_count": null,
      "metadata": {
        "id": "y2MyyLc2djNV"
      },
      "outputs": [],
      "source": [
        "y_pred = classifier.predict(X_test)\n",
        "y_pred = (y_pred > 0.5)"
      ]
    },
    {
      "cell_type": "markdown",
      "metadata": {
        "id": "e_Qem_dzdmbl"
      },
      "source": [
        "#### Avaliando o modelo"
      ]
    },
    {
      "cell_type": "code",
      "execution_count": null,
      "metadata": {
        "id": "WUfe2JZSdoBj"
      },
      "outputs": [],
      "source": [
        "cm = confusion_matrix(y_test, y_pred)\n",
        "cm"
      ]
    },
    {
      "cell_type": "markdown",
      "metadata": {
        "id": "diaaPnLcd8AU"
      },
      "source": [
        "# Salvando o modelo"
      ]
    },
    {
      "cell_type": "code",
      "execution_count": null,
      "metadata": {
        "id": "V9F61yJ7d-hm"
      },
      "outputs": [],
      "source": [
        "folder = 'rna/'\n",
        "\n",
        "# Verifica se o diretório existe e, se não existir, cria o diretório\n",
        "if not os.path.exists(folder):\n",
        "    os.makedirs(folder)\n",
        "\n",
        "# Salva o modelo no diretório especificado\n",
        "classifier.save(os.path.join(folder, 'rede_neural_one.h5'))"
      ]
    },
    {
      "cell_type": "markdown",
      "metadata": {
        "id": "dAoh--T2fa1w"
      },
      "source": [
        "# Importando o modelo para uso"
      ]
    },
    {
      "cell_type": "code",
      "execution_count": null,
      "metadata": {
        "id": "zBw0q3Owd_bz"
      },
      "outputs": [],
      "source": [
        "model = load_model(os.path.join(folder, 'rede_neural_one.h5'))\n",
        "y_pred = model.predict(X_test)\n",
        "y_pred = (y_pred > 0.7)"
      ]
    },
    {
      "cell_type": "code",
      "execution_count": null,
      "metadata": {
        "id": "peP5Nd3tg2aL"
      },
      "outputs": [],
      "source": [
        "y_pred\n",
        "cm = confusion_matrix(y_test, y_pred)\n",
        "cm"
      ]
    }
  ],
  "metadata": {
    "colab": {
      "provenance": []
    },
    "kernelspec": {
      "display_name": "Python 3",
      "name": "python3"
    },
    "language_info": {
      "name": "python"
    }
  },
  "nbformat": 4,
  "nbformat_minor": 0
}
