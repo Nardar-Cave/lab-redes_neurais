{
  "cells": [
    {
      "cell_type": "markdown",
      "metadata": {
        "id": "s-sEfgMSB_39"
      },
      "source": [
        "# Machine Learning nos Exames de Bruxo de Hogwarts"
      ]
    },
    {
      "cell_type": "markdown",
      "metadata": {
        "id": "_sNkenMNIKAR"
      },
      "source": [
        "### Descriçao\n",
        "\n",
        "---\n",
        "1. O objetivo deste notebook é aprender as 4 principais tarefas de ML (Classificação, Regressão, Agrupagamentos, Sistema de Recomendação)\n",
        "2. Vamos construir um conjunto de dados baseado no universo do Harry Potter\n",
        "3. O problema consiste em prever, baseado no histórico escolar do aluno, se ele está apto a entrar na casa que ele se candidatou.\n",
        "---"
      ]
    },
    {
      "cell_type": "markdown",
      "metadata": {
        "id": "d6STDfeUl02R"
      },
      "source": [
        "### Dicionário\n",
        "\n",
        "\n",
        "Fields\t                                                  | Type  \t  |    Description                              |\n",
        "----------------------------------------------------------|:---------:|:-------------------------------------------:|\n",
        "alunos \t  \t\t\t\t\t\t\t\t\t\t  \t  |string     | nome dos alunos\t                    |\n",
        "idade\t\t\t\t\t\t\t\t\t\t\t\t\t\t  |integer    | idade dos alunos                         |\n",
        "casas\t\t     \t\t\t\t\t\t\t\t\t\t  |string     | casa a qual ele se aplicou\t                |\n",
        "ano | int | ano em que se ele aplicou a vaga\n",
        "ensino_medio | float | nota final do ensino médio\n",
        "ensino_fundamental | float | nota final do ensino fundamental\n",
        "label_alvo | string | resultado final da aplicacao\n",
        "\n"
      ]
    },
    {
      "cell_type": "markdown",
      "metadata": {
        "id": "dB66nKuJP6fT"
      },
      "source": [
        "# Instalação dos pacotes"
      ]
    },
    {
      "cell_type": "code",
      "execution_count": null,
      "metadata": {
        "colab": {
          "base_uri": "https://localhost:8080/"
        },
        "id": "smi7HSPAer40",
        "outputId": "4be5a342-a1d3-4f23-96a5-f9a638415f14"
      },
      "outputs": [],
      "source": [
        "!pip install pandas numpy scikit-learn Faker\n"
      ]
    },
    {
      "cell_type": "markdown",
      "metadata": {
        "id": "rDfSvk4CewhY"
      },
      "source": [
        "# Documentação\n",
        "\n",
        "1. ** Pandas ** -> [Link](https://pandas.pydata.org/docs/)\n",
        "2. ** Numpy ** -> [Link](https://numpy.org/doc/)\n",
        "3. ** Faker ** -> [Link](https://faker.readthedocs.io/en/master/)\n",
        "4. ** Scikit Learn ** -> [Link](https://scikit-learn.org/stable/)\n",
        "5. ** JobLib ** -> [JobLib](https://joblib.readthedocs.io/en/stable/)\n"
      ]
    },
    {
      "cell_type": "markdown",
      "metadata": {
        "id": "5BXz_6eMPB4G"
      },
      "source": [
        "# Importando as Bibliotecas"
      ]
    },
    {
      "cell_type": "code",
      "execution_count": null,
      "metadata": {
        "id": "1jD5NVN4eyDn"
      },
      "outputs": [],
      "source": [
        "import pandas as pd # para manipulacao de dados\n",
        "import numpy as np # para manipulação de matrizes\n",
        "import random #para gerar numeros aleatorios\n",
        "from faker import Faker # para gerar nomes falsos\n",
        "\n",
        "from sklearn.model_selection import train_test_split #para dividir os dados em teste e treino\n",
        "from sklearn.preprocessing import StandardScaler, LabelEncoder# etapa de pre processamento de dados para deixar dados na mesma escala\n",
        "from sklearn.metrics import mean_absolute_error, mean_squared_error, r2_score, accuracy_score, silhouette_score #metricas de avaliacao\n",
        "from sklearn.ensemble import RandomForestClassifier # algoritimo de classificação, baseado em arvore de decisão\n",
        "from sklearn.linear_model import LogisticRegression # algoritimo de regressao, baseado em regressao logística\n",
        "from sklearn.cluster import KMeans #para clusterizacao, agrupamento de dados\n",
        "from sklearn.neighbors import NearestNeighbors #para o sistema de recomendação\n",
        "\n",
        "\n",
        "\n",
        "import joblib #para salvar o modelos\n",
        "import os #para criar uma pasta para hosperdarmos o modelo\n",
        "\n"
      ]
    },
    {
      "cell_type": "markdown",
      "metadata": {
        "id": "z8YVGu4Ke4Ck"
      },
      "source": [
        "# Construindo o Dataset Faker\n",
        "\n"
      ]
    },
    {
      "cell_type": "code",
      "execution_count": null,
      "metadata": {
        "id": "6l_kr9jJe4op"
      },
      "outputs": [],
      "source": [
        "\n",
        "def generate(num): #recebe um valor especifico numerico que vai gerar a quantidade de linhas que precisamos\n",
        "    fake = Faker() #crio uma variavel que vai funcionar como metodo para puxar a biblioteca\n",
        "    data = []\n",
        "\n",
        "    for i in range(num): #pecorre a quantidade de linhas que passamos no parametro\n",
        "        aluno = fake.name() #gera nomes falsos\n",
        "        idade = random.randint(11, 39) #gera uma idade entre 11 a 39 anos\n",
        "        casas = random.choice(['Grifinória', 'Sonserina', 'Corvinal', 'Lufa-lufa']) #escolhe um item numa lista\n",
        "        ano_de_ingresso = random.randint(2024 - idade, 2024) #gera um numero referente ao ano que vai entre 2024 e 2030\n",
        "        nota_1 = round(random.uniform(0, 100), 2) # gera a nota do ensino fundamental\n",
        "        nota_2 = 0 if nota_1 < 50 else round(random.uniform(0, 100), 2) # cria uma condicao para que se a nota_1 for menor que 50, automanticamente a nota_2 seja 0\n",
        "        nota_final = nota_1 if nota_2 == 0 else round((nota_1 + nota_2) / 2, 2) #cria o valor da nota final que é a diferenca entre nota_1 - nota_2\n",
        "        label_alvo = 'reprovado' if nota_final < 50 else 'aprovado' # verifica a nota final e cria condicao para aprovado ou reprovado\n",
        "\n",
        "        row = {\n",
        "            'aluno': aluno,\n",
        "            'idade': idade,\n",
        "            'casas': casas,\n",
        "            'ano_de_ingresso': ano_de_ingresso,\n",
        "            'ensino_fundamental': nota_1,\n",
        "            'ensino_medio': nota_2,\n",
        "            'nota_final': nota_final,\n",
        "            'label_alvo': label_alvo\n",
        "        }\n",
        "\n",
        "        data.append(row)\n",
        "\n",
        "    df = pd.DataFrame(data)\n",
        "    return df\n",
        "\n",
        "df = generate(1000)\n",
        "df\n"
      ]
    },
    {
      "cell_type": "markdown",
      "metadata": {
        "id": "xFALnaQrJBaC"
      },
      "source": [
        "# Classificação"
      ]
    },
    {
      "cell_type": "markdown",
      "metadata": {
        "id": "8E5wxAn0JGI5"
      },
      "source": [
        "#### **Objetivo**\n",
        "1. Na classificação, nosso objetivo é prever ou descrever uma variavel categorica (string)\n",
        "2. Vamos usar a coluna catégorica [label_alvo] para nosso estudo.\n",
        "3. [Documentação dos algorítimos](https://scikit-learn.org/stable/supervised_learning.html#supervised-learning)"
      ]
    },
    {
      "cell_type": "code",
      "execution_count": null,
      "metadata": {
        "id": "xznCks1qOLnr"
      },
      "outputs": [],
      "source": [
        "# Separar features e label\n",
        "X = df.drop(['aluno', 'label_alvo', 'casas'], axis=1) #removendo as labels categoricas para treinamento\n",
        "y = df['label_alvo']"
      ]
    },
    {
      "cell_type": "code",
      "execution_count": null,
      "metadata": {
        "id": "MonvBv_v2vQ4"
      },
      "outputs": [],
      "source": [
        "X\n",
        "#y"
      ]
    },
    {
      "cell_type": "code",
      "execution_count": null,
      "metadata": {
        "id": "jDCgKk9JOi28"
      },
      "outputs": [],
      "source": [
        "# Codificar variáveis categóricas\n",
        "label_encoder = LabelEncoder()\n",
        "#X['casas'] = label_encoder.fit_transform(X['casas'])\n",
        "y = label_encoder.fit_transform(y) #transformando a categorica que vamos prever em numerica\n"
      ]
    },
    {
      "cell_type": "code",
      "execution_count": null,
      "metadata": {
        "id": "-_ytwdqW3CLY"
      },
      "outputs": [],
      "source": [
        "y"
      ]
    },
    {
      "cell_type": "code",
      "execution_count": null,
      "metadata": {
        "id": "2eeFW28DfqOh"
      },
      "outputs": [],
      "source": [
        "#Dividir em teste e treino\n",
        "X_train, X_test, y_train, y_test = train_test_split(X, y, test_size=0.2, random_state=42)"
      ]
    },
    {
      "cell_type": "code",
      "execution_count": null,
      "metadata": {
        "id": "EcWmPG_Afumc"
      },
      "outputs": [],
      "source": [
        "# Inicializar e treinar o modelo\n",
        "forest_classifier = RandomForestClassifier(random_state=42)\n",
        "forest_classifier.fit(X_train, y_train)"
      ]
    },
    {
      "cell_type": "code",
      "execution_count": null,
      "metadata": {
        "id": "2QVzc7JM2DB3"
      },
      "outputs": [],
      "source": [
        "y_test"
      ]
    },
    {
      "cell_type": "code",
      "execution_count": null,
      "metadata": {
        "id": "c7VN6UQhfysb"
      },
      "outputs": [],
      "source": [
        "y_pred = forest_classifier.predict(X_test) #prevendo o X_test\n",
        "\n",
        "# Calcular a acurácia do modelo\n",
        "accuracy = accuracy_score(y_test, y_pred) #metrica de avaliacao\n",
        "\n",
        "#print(f'O aluno {candidato} candidado a {casa_pretendida} está {predict}')\n",
        "print(f'Acurácia do modelo: {accuracy:.2f}')\n"
      ]
    },
    {
      "cell_type": "code",
      "execution_count": null,
      "metadata": {
        "id": "mblkHjY4-oLO"
      },
      "outputs": [],
      "source": [
        "X_test"
      ]
    },
    {
      "cell_type": "markdown",
      "metadata": {
        "id": "3S317YV0FPoZ"
      },
      "source": [
        "#### Salvando o modelo"
      ]
    },
    {
      "cell_type": "code",
      "execution_count": null,
      "metadata": {
        "id": "ARo4PT2TFL9O"
      },
      "outputs": [],
      "source": [
        "\n",
        "folder = 'classificacao'\n",
        "\n",
        "os.mkdir(folder)\n",
        "with open(f'{folder}/harrypotter_random_forest.pkl', 'wb') as f:\n",
        "    joblib.dump(forest_classifier, f)\n"
      ]
    },
    {
      "cell_type": "markdown",
      "metadata": {
        "id": "CidAfFycFRtd"
      },
      "source": [
        "### Reutilizando o modelo"
      ]
    },
    {
      "cell_type": "code",
      "execution_count": null,
      "metadata": {
        "id": "S1AujX-jGmzC"
      },
      "outputs": [],
      "source": [
        "rf_classifier = joblib.load(f'{folder}/harrypotter_random_forest.pkl')"
      ]
    },
    {
      "cell_type": "code",
      "execution_count": null,
      "metadata": {
        "id": "MMHD3U5G58aU"
      },
      "outputs": [],
      "source": [
        "#testando o modelo\n",
        "\n",
        "nome_candidado = 'Maycon Batestin' #novo conjunto de dados\n",
        "idade = 35\n",
        "casa_pretendida = 'Lufa-lufa'\n",
        "ano_de_ingresso = 2024\n",
        "ensino_fundamental = 58.9\n",
        "ensino_medio \t= 10.0\n",
        "nota_final \t= (ensino_fundamental + ensino_medio) / 2\n",
        "\n",
        "X_novo = [[idade, ano_de_ingresso, ensino_fundamental, ensino_medio, nota_final]]\n",
        "\n",
        "y_pred = rf_classifier.predict(X_novo)\n",
        "resultado = label_encoder.inverse_transform(y_pred)[0]\n",
        "\n",
        "resposta = f\"O aluno {nome_candidado} pretendido a casa {casa_pretendida} foi {resultado.upper()}\""
      ]
    },
    {
      "cell_type": "code",
      "execution_count": null,
      "metadata": {
        "id": "-JloXioOBaQj"
      },
      "outputs": [],
      "source": [
        "resposta"
      ]
    },
    {
      "cell_type": "markdown",
      "metadata": {
        "id": "5Mh20mofBixi"
      },
      "source": [
        "### salvando o modelo"
      ]
    },
    {
      "cell_type": "markdown",
      "metadata": {
        "id": "9gPbXrbfJbLh"
      },
      "source": [
        "# Regressão"
      ]
    },
    {
      "cell_type": "markdown",
      "metadata": {
        "id": "NfdICloTJdZM"
      },
      "source": [
        "#### **Objetivo**\n",
        "1. Em regressão eu tento prever ou descrever uma categoria númerica (int)\n",
        "2. Neste caso iremos criar uma regressão para podermos prever, com base nas notas final quais sao as chances do aluno de entrar na casa pretendida.\n",
        "3. [Documentação dos algorítimos](https://scikit-learn.org/stable/supervised_learning.html#supervised-learning)\n",
        "\n"
      ]
    },
    {
      "cell_type": "code",
      "execution_count": null,
      "metadata": {
        "id": "CfObmhVxPbyR"
      },
      "outputs": [],
      "source": [
        "df = generate(1000)\n",
        "df"
      ]
    },
    {
      "cell_type": "code",
      "execution_count": null,
      "metadata": {
        "id": "uMjXDbtkSL_O"
      },
      "outputs": [],
      "source": [
        "#transformando o label_alvo para uma variavel numerica\n",
        "\n",
        "label_encoder = LabelEncoder()\n",
        "df['label_alvo'] = label_encoder.fit_transform(df['label_alvo'])\n",
        "df['casas'] = label_encoder.fit_transform(df['casas'])"
      ]
    },
    {
      "cell_type": "code",
      "execution_count": null,
      "metadata": {
        "id": "SnFyFNZ8QEN6"
      },
      "outputs": [],
      "source": [
        "#Vamos separar nossos dados para um modelo supervisionado\n",
        "#\n",
        "X = df[['nota_final', 'casas']] # a variavel numerica que influencia o label_aprovado\n",
        "y = df['label_alvo'] # a variavel alvo"
      ]
    },
    {
      "cell_type": "code",
      "execution_count": null,
      "metadata": {
        "id": "W6Ioqev7R9cf"
      },
      "outputs": [],
      "source": [
        "# dividindo em teste e treino\n",
        "X_train, X_test, y_train, y_test = train_test_split(X, y, test_size=0.2, random_state=42)"
      ]
    },
    {
      "cell_type": "code",
      "execution_count": null,
      "metadata": {
        "id": "ZqK33TEjSFbt"
      },
      "outputs": [],
      "source": [
        "#criando nosso modelo de regressao\n",
        "regression_model = LogisticRegression()\n",
        "regression_model.fit(X_train, y_train)\n"
      ]
    },
    {
      "cell_type": "code",
      "execution_count": null,
      "metadata": {
        "id": "MoRMgi0eSXUh"
      },
      "outputs": [],
      "source": [
        "#avaliando o modelo\n",
        "score = regression_model.score(X_test, y_test)\n",
        "print(f'Acurácia do modelo: {score}')\n",
        "\n"
      ]
    },
    {
      "cell_type": "markdown",
      "metadata": {
        "id": "RwrZFhSna5lI"
      },
      "source": [
        "#### Salvando o modelo"
      ]
    },
    {
      "cell_type": "code",
      "execution_count": null,
      "metadata": {
        "id": "Mt2aQKj9a5FV"
      },
      "outputs": [],
      "source": [
        "folder = 'regressao'\n",
        "\n",
        "os.mkdir(folder)\n",
        "with open(f'{folder}/harrypotter_regression_logistic.pkl', 'wb') as f:\n",
        "    joblib.dump(regression_model, f)\n"
      ]
    },
    {
      "cell_type": "markdown",
      "metadata": {
        "id": "dEabrL-rbExh"
      },
      "source": [
        "### Reutilizando o modelo"
      ]
    },
    {
      "cell_type": "code",
      "execution_count": null,
      "metadata": {
        "id": "UJ8kvfm5bODy"
      },
      "outputs": [],
      "source": [
        "#importando ele\n",
        "lg = joblib.load(f'{folder}/harrypotter_regression_logistic.pkl')"
      ]
    },
    {
      "cell_type": "code",
      "execution_count": null,
      "metadata": {
        "id": "guIL9fVOTLPL"
      },
      "outputs": [],
      "source": [
        "aluno = 'Maycon Batestin'\n",
        "casa_pretendida = 'Grifinória'\n",
        "\n",
        "nota_final = 50\n",
        "transfor_casa = label_encoder.transform([casa_pretendida])[0]\n",
        "entrada = [[nota_final, transfor_casa]]\n",
        "resultado = lg.predict_proba(entrada) # metrica para avaliar a estimativas de probabilidade, é uma array, onde o primeiro valor mais proximo do 1 representa a porcentagem em 100 e o segundo valor, mais proximo do zero indica a confianca\n",
        "\n"
      ]
    },
    {
      "cell_type": "code",
      "execution_count": null,
      "metadata": {
        "id": "5QBQZOWAZ5Hn"
      },
      "outputs": [],
      "source": [
        "print(f\"Resultado final: {resultado}\")\n",
        "print(f\"O aluno {aluno} tem {round(resultado[0][0],2) * 100}% de chance entrar na {casa_pretendida}\")"
      ]
    },
    {
      "cell_type": "markdown",
      "metadata": {
        "id": "tvSlxzqfJj8M"
      },
      "source": [
        "# Agrupamentos (clustering)"
      ]
    },
    {
      "cell_type": "markdown",
      "metadata": {
        "id": "DcTB9Jr0Jm13"
      },
      "source": [
        "#### **Objetivo**\n",
        "1. Em agrupamentos eu não tento prever uma categoria especifica, tento agrupar os dados de acordo com caracteristicas em comum.\n",
        "2. Neste nosso caso vamos criar um cluster para entender como os alunos realmente estão dividos entre si, pelas notas de ensino, pelo ano de ingresso, ou pela casa que se candidataram.\n",
        "3. [Documentação dos algorítimos](https://scikit-learn.org/stable/modules/clustering.html#clustering)"
      ]
    },
    {
      "cell_type": "code",
      "execution_count": null,
      "metadata": {
        "id": "X09IZKxwdQCU"
      },
      "outputs": [],
      "source": [
        "df = generate(1000)\n",
        "df"
      ]
    },
    {
      "cell_type": "code",
      "execution_count": null,
      "metadata": {
        "id": "gL7lxdJnwsr1"
      },
      "outputs": [],
      "source": [
        "X = df.drop(['aluno'], axis=1)  # Remover as colunas 'aluno' e 'label_alvo'\n",
        "X"
      ]
    },
    {
      "cell_type": "code",
      "execution_count": null,
      "metadata": {
        "id": "72SM04xKyodt"
      },
      "outputs": [],
      "source": [
        "# Converter a coluna 'casas' em valores numéricos\n",
        "le = LabelEncoder()\n",
        "X['casas'] = le.fit_transform(X['casas'])\n",
        "X['label_alvo'] = le.fit_transform(X['label_alvo'])"
      ]
    },
    {
      "cell_type": "code",
      "execution_count": null,
      "metadata": {
        "id": "u-P7vkdlypUd"
      },
      "outputs": [],
      "source": [
        "# Normalizar os dados\n",
        "scaler = StandardScaler()\n",
        "X_scaled = scaler.fit_transform(X)"
      ]
    },
    {
      "cell_type": "code",
      "execution_count": null,
      "metadata": {
        "id": "s1AXV1BhyNR6"
      },
      "outputs": [],
      "source": [
        "# Criar e treinar o modelo KMeans\n",
        "km = KMeans(n_clusters=4, random_state=42)\n",
        "clusters = km.fit_predict(X_scaled)"
      ]
    },
    {
      "cell_type": "code",
      "execution_count": null,
      "metadata": {
        "id": "lbmVJH5Oywaw"
      },
      "outputs": [],
      "source": [
        "# Adicionar os clusters ao DataFrame\n",
        "df['grupo'] = clusters"
      ]
    },
    {
      "cell_type": "code",
      "execution_count": null,
      "metadata": {
        "id": "5l14AZW9yyPd"
      },
      "outputs": [],
      "source": [
        "df"
      ]
    },
    {
      "cell_type": "code",
      "execution_count": null,
      "metadata": {
        "id": "Y6FPFrB-y6Ur"
      },
      "outputs": [],
      "source": [
        "df['grupo'].unique()"
      ]
    },
    {
      "cell_type": "code",
      "execution_count": null,
      "metadata": {
        "id": "DNeT9yzDye-e"
      },
      "outputs": [],
      "source": [
        "df.loc[df['grupo'] == 0]"
      ]
    },
    {
      "cell_type": "code",
      "execution_count": null,
      "metadata": {
        "id": "H3k3I1vtzyxr"
      },
      "outputs": [],
      "source": [
        "# Calcular a inércia\n",
        "inertia = km.inertia_\n",
        "# Calcular o coeficiente de silhueta\n",
        "silhouette = silhouette_score(X_scaled, clusters)"
      ]
    },
    {
      "cell_type": "code",
      "execution_count": null,
      "metadata": {
        "id": "BCwKHcDn0D_j"
      },
      "outputs": [],
      "source": [
        "print(f'Inércia: {inertia}')\n",
        "print(f'Coeficiente de Silhueta: {silhouette}')"
      ]
    },
    {
      "cell_type": "markdown",
      "metadata": {
        "id": "GcsdFI2N1MtH"
      },
      "source": [
        "### Salvando o modelo"
      ]
    },
    {
      "cell_type": "code",
      "execution_count": null,
      "metadata": {
        "id": "66AmwUot1OnV"
      },
      "outputs": [],
      "source": [
        "folder = 'clustering'\n",
        "\n",
        "os.mkdir(folder)\n",
        "with open(f'{folder}/harrypotter_clustering.pkl', 'wb') as f:\n",
        "    joblib.dump(km, f)\n"
      ]
    },
    {
      "cell_type": "markdown",
      "metadata": {
        "id": "whXpFQLN1YGQ"
      },
      "source": [
        "### Testando com novos dados"
      ]
    },
    {
      "cell_type": "code",
      "execution_count": null,
      "metadata": {
        "id": "j4pGuIir2FNi"
      },
      "outputs": [],
      "source": [
        "#importando o modelo\n",
        "km = joblib.load(f'{folder}/harrypotter_clustering.pkl')"
      ]
    },
    {
      "cell_type": "code",
      "execution_count": null,
      "metadata": {
        "id": "zfZvn6hX1aPO"
      },
      "outputs": [],
      "source": [
        "df_new = generate(10000) #gerando uma base de dados maior\n",
        "X = df_new.drop(['aluno'], axis=1)  # Remover as colunas 'aluno' e 'label_alvo'\n",
        "\n",
        "#o processo de pre processamento\n",
        "le = LabelEncoder()\n",
        "X['casas'] = le.fit_transform(X['casas'])\n",
        "X['label_alvo'] = le.fit_transform(X['label_alvo'])\n",
        "\n",
        "# Normalizar os dados\n",
        "scaler = StandardScaler()\n",
        "X_scaled = scaler.fit_transform(X)\n",
        "\n",
        "# Criar e treinar o modelo KMeans\n",
        "km = KMeans(n_clusters=4, random_state=42)\n",
        "clusters = km.fit_predict(X_scaled)\n",
        "\n",
        "df_new['grupo'] = clusters\n",
        "\n",
        "inertia = km.inertia_\n",
        "# Calcular o coeficiente de silhueta\n",
        "silhouette = silhouette_score(X_scaled, clusters)"
      ]
    },
    {
      "cell_type": "code",
      "execution_count": null,
      "metadata": {
        "id": "NL6BQMIq2P47"
      },
      "outputs": [],
      "source": [
        "print(f'Inércia: {inertia}')\n",
        "print(f'Coeficiente de Silhueta: {silhouette}')"
      ]
    },
    {
      "cell_type": "markdown",
      "metadata": {
        "id": "51jXLIhrJ9cd"
      },
      "source": [
        "# Sistema de Recomendação"
      ]
    },
    {
      "cell_type": "markdown",
      "metadata": {
        "id": "HGNU-hSuKAZi"
      },
      "source": [
        "#### **Objetivo**\n",
        "1.  Sistemas de recomendação são frequentemente implementados usando técnicas de aprendizado supervisionado, não supervisionado ou baseados em conteúdo.\n",
        "2. Vamos recomendar a casa para o aluno, baseado na sua idade.\n",
        "3. [Documentação dos algorítimos](https://scikit-learn.org/stable/modules/generated/sklearn.neighbors.NearestNeighbors.html#sklearn.neighbors.NearestNeighbors)\n",
        "\n"
      ]
    },
    {
      "cell_type": "code",
      "execution_count": null,
      "metadata": {
        "id": "I1iyWL6oXYr5"
      },
      "outputs": [],
      "source": [
        "#criando nosso dataframe\n",
        "\n",
        "df = generate(1000)\n",
        "df"
      ]
    },
    {
      "cell_type": "code",
      "execution_count": null,
      "metadata": {
        "id": "qucQHlCBH0RE"
      },
      "outputs": [],
      "source": [
        "df = df.loc[df['label_alvo'] == 'aprovado'] #do nosso dataset, vamos pegar apenas quem foi aprovado. Nao faz sentido recomendar para quem foi reprovado"
      ]
    },
    {
      "cell_type": "code",
      "execution_count": null,
      "metadata": {
        "id": "xISEwRxR3-vm"
      },
      "outputs": [],
      "source": [
        "#selecionar apenas as variaveis que queremos\n",
        "\n",
        "X = df[['idade', 'ano_de_ingresso']]\n",
        "y = df['casas']"
      ]
    },
    {
      "cell_type": "code",
      "execution_count": null,
      "metadata": {
        "id": "7luJvw_9488H"
      },
      "outputs": [],
      "source": [
        "# Transformando casas para um valor numerico\n",
        "\n",
        "le = LabelEncoder()\n",
        "y = le.fit_transform(y)"
      ]
    },
    {
      "cell_type": "code",
      "execution_count": null,
      "metadata": {
        "id": "P728Z6xF6R53"
      },
      "outputs": [],
      "source": [
        "#Treinando o sistema\n",
        "vizinho = NearestNeighbors(algorithm = 'brute') #Algoritimo é um parametro usado para buscar os vizinhos de forma mais bruta\n",
        "vizinho.fit(X, y)"
      ]
    },
    {
      "cell_type": "markdown",
      "metadata": {
        "id": "HxwFvHOp_isw"
      },
      "source": [
        "#### Salvando o modelo"
      ]
    },
    {
      "cell_type": "code",
      "execution_count": null,
      "metadata": {
        "id": "QsLhleLp_lTM"
      },
      "outputs": [],
      "source": [
        "folder = 'recomendacao'\n",
        "\n",
        "os.mkdir(folder)\n",
        "with open(f'{folder}/harrypotter_recomendacao.pkl', 'wb') as f:\n",
        "    joblib.dump(vizinho, f)"
      ]
    },
    {
      "cell_type": "markdown",
      "metadata": {
        "id": "8XbImfo2_vAR"
      },
      "source": [
        "#### Importando o modelo"
      ]
    },
    {
      "cell_type": "code",
      "execution_count": null,
      "metadata": {
        "id": "yaL_WoaR_1O8"
      },
      "outputs": [],
      "source": [
        "#importando o modelo\n",
        "viz = joblib.load(f'{folder}/harrypotter_recomendacao.pkl')"
      ]
    },
    {
      "cell_type": "markdown",
      "metadata": {
        "id": "hurlZM4w9UPy"
      },
      "source": [
        "####testando"
      ]
    },
    {
      "cell_type": "code",
      "execution_count": null,
      "metadata": {
        "id": "eUI6o9il-2FB"
      },
      "outputs": [],
      "source": [
        "aluno = 'Maycon Batestin'\n",
        "idade = 43\n",
        "ano_de_ingresso = 2024"
      ]
    },
    {
      "cell_type": "code",
      "execution_count": null,
      "metadata": {
        "id": "XOW0nLUs7o5d"
      },
      "outputs": [],
      "source": [
        "# Criar o novo aluno\n",
        "novo_aluno = pd.DataFrame({'idade': [idade], 'ano_de_ingresso': [ano_de_ingresso]})"
      ]
    },
    {
      "cell_type": "code",
      "execution_count": null,
      "metadata": {
        "id": "vGPHlpfuAKdN"
      },
      "outputs": [],
      "source": [
        "# Criar o modelo Nearest Neighbors\n",
        "viz.fit(X, y)"
      ]
    },
    {
      "cell_type": "code",
      "execution_count": null,
      "metadata": {
        "id": "-op3g2EK9olr"
      },
      "outputs": [],
      "source": [
        "distancias, indices_vizinhos = vizinho.kneighbors(novo_aluno) # Encontrar os vizinhos mais próximos do novo aluno\n"
      ]
    },
    {
      "cell_type": "code",
      "execution_count": null,
      "metadata": {
        "id": "ilRvsTsE9rN9"
      },
      "outputs": [],
      "source": [
        "# Obter as casas dos vizinhos mais próximos\n",
        "casas_vizinhos = df.iloc[indices_vizinhos[0]]['casas'].values\n"
      ]
    },
    {
      "cell_type": "code",
      "execution_count": null,
      "metadata": {
        "id": "-DC2ooet9vp9"
      },
      "outputs": [],
      "source": [
        "# Encontrar a casa mais comum entre os vizinhos\n",
        "casa_recomendada = pd.Series(casas_vizinhos).mode()[0] #aqui pegamos da serie casa_vizinhos que estabelecemos acima, e puxamos o primeiro item(0) para a variavel casa_recomendada\n"
      ]
    },
    {
      "cell_type": "code",
      "execution_count": null,
      "metadata": {
        "id": "yvH2s51W-YGz"
      },
      "outputs": [],
      "source": [
        "\n",
        "print(f\"Recomendamos para o {aluno} a casa {casa_recomendada.upper()}\")"
      ]
    }
  ],
  "metadata": {
    "colab": {
      "collapsed_sections": [
        "dB66nKuJP6fT"
      ],
      "provenance": []
    },
    "kernelspec": {
      "display_name": "Python 3",
      "name": "python3"
    },
    "language_info": {
      "name": "python"
    }
  },
  "nbformat": 4,
  "nbformat_minor": 0
}
