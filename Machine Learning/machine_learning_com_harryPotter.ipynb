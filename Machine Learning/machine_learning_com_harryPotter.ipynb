{
  "nbformat": 4,
  "nbformat_minor": 0,
  "metadata": {
    "colab": {
      "provenance": [],
      "collapsed_sections": [
        "dB66nKuJP6fT"
      ]
    },
    "kernelspec": {
      "name": "python3",
      "display_name": "Python 3"
    },
    "language_info": {
      "name": "python"
    }
  },
  "cells": [
    {
      "cell_type": "markdown",
      "source": [
        "# Machine Learning nos Exames de Bruxo de Hogwarts"
      ],
      "metadata": {
        "id": "s-sEfgMSB_39"
      }
    },
    {
      "cell_type": "markdown",
      "source": [
        "### Descriçao\n",
        "\n",
        "---\n",
        "1. O objetivo deste notebook é aprender as 4 principais tarefas de ML (Classificação, Regressão, Agrupagamentos, Sistema de Recomendação)\n",
        "2. Vamos construir um conjunto de dados baseado no universo do Harry Potter\n",
        "3. O problema consiste em prever, baseado no histórico escolar do aluno, se ele está apto a entrar na casa que ele se candidatou.\n",
        "---"
      ],
      "metadata": {
        "id": "_sNkenMNIKAR"
      }
    },
    {
      "cell_type": "markdown",
      "source": [
        "### Dicionário\n",
        "\n",
        "\n",
        "Fields\t                                                  | Type  \t  |    Description                              |\n",
        "----------------------------------------------------------|:---------:|:-------------------------------------------:|\n",
        "alunos \t  \t\t\t\t\t\t\t\t\t\t  \t  |string     | nome dos alunos\t                    |\n",
        "idade\t\t\t\t\t\t\t\t\t\t\t\t\t\t  |integer    | idade dos alunos                         |\n",
        "casas\t\t     \t\t\t\t\t\t\t\t\t\t  |string     | casa a qual ele se aplicou\t                |\n",
        "ano | int | ano em que se ele aplicou a vaga\n",
        "ensino_medio | float | nota final do ensino médio\n",
        "ensino_fundamental | float | nota final do ensino fundamental\n",
        "label_alvo | string | resultado final da aplicacao\n",
        "\n"
      ],
      "metadata": {
        "id": "d6STDfeUl02R"
      }
    },
    {
      "cell_type": "markdown",
      "source": [
        "# Instalação dos pacotes"
      ],
      "metadata": {
        "id": "dB66nKuJP6fT"
      }
    },
    {
      "cell_type": "code",
      "source": [
        "!pip install pandas numpy scikit-learn keras Faker\n"
      ],
      "metadata": {
        "id": "smi7HSPAer40"
      },
      "execution_count": null,
      "outputs": []
    },
    {
      "cell_type": "markdown",
      "source": [
        "# Documentação\n",
        "\n",
        "1. ** Pandas ** -> [Link](https://pandas.pydata.org/docs/)\n",
        "2. ** Numpy ** -> [Link](https://numpy.org/doc/)\n",
        "3. ** Faker ** -> [Link](https://faker.readthedocs.io/en/master/)\n",
        "4. ** Scikit Learn ** -> [Link](https://scikit-learn.org/stable/)\n",
        "5. ** Keras ** -> [Link](https://keras.io/api/)\n",
        "6. ** Tensor Flow ** -> [Tensor Flow](https://www.tensorflow.org/api_docs/python/tf/keras)\n",
        "7. ** JobLib ** -> [JobLib](https://joblib.readthedocs.io/en/stable/)\n"
      ],
      "metadata": {
        "id": "rDfSvk4CewhY"
      }
    },
    {
      "cell_type": "markdown",
      "source": [
        "# Importando as Bibliotecas"
      ],
      "metadata": {
        "id": "5BXz_6eMPB4G"
      }
    },
    {
      "cell_type": "code",
      "source": [
        "import pandas as pd # para manipulacao de dados\n",
        "import numpy as np # para manipulação de matrizes\n",
        "import random #para gerar numeros aleatorios\n",
        "from faker import Faker # para gerar nomes falsos\n",
        "\n",
        "from sklearn.model_selection import train_test_split #para dividir os dados em teste e treino\n",
        "from sklearn.preprocessing import StandardScaler, LabelEncoder# etapa de pre processamento de dados para deixar dados na mesma escala\n",
        "from sklearn.metrics import mean_absolute_error, mean_squared_error, r2_score, accuracy_score, silhouette_score #metricas de avaliacao\n",
        "from sklearn.ensemble import RandomForestClassifier # algoritimo de classificação, baseado em arvore de decisão\n",
        "from sklearn.linear_model import LogisticRegression # algoritimo de regressao, baseado em regressao logística\n",
        "from sklearn.cluster import KMeans #para clusterizacao, agrupamento de dados\n",
        "from sklearn.neighbors import NearestNeighbors #para o sistema de recomendação\n",
        "\n",
        "\n",
        "\n",
        "import joblib #para salvar o modelos\n",
        "import os #para criar uma pasta para hosperdarmos o modelo\n",
        "\n"
      ],
      "metadata": {
        "id": "1jD5NVN4eyDn"
      },
      "execution_count": null,
      "outputs": []
    },
    {
      "cell_type": "markdown",
      "source": [
        "# Construindo o Dataset Faker\n",
        "\n"
      ],
      "metadata": {
        "id": "z8YVGu4Ke4Ck"
      }
    },
    {
      "cell_type": "code",
      "source": [
        "\n",
        "def generate(num): #recebe um valor especifico numerico que vai gerar a quantidade de linhas que precisamos\n",
        "    fake = Faker() #crio uma variavel que vai funcionar como metodo para puxar a biblioteca\n",
        "    data = []\n",
        "\n",
        "    for i in range(num): #pecorre a quantidade de linhas que passamos no parametro\n",
        "        aluno = fake.name() #gera nomes falsos\n",
        "        idade = random.randint(11, 39) #gera uma idade entre 11 a 39 anos\n",
        "        casas = random.choice(['Grifinória', 'Sonserina', 'Corvinal', 'Lufa-lufa']) #escolhe um item numa lista\n",
        "        ano_de_ingresso = random.randint(2024 - idade, 2024) #gera um numero referente ao ano que vai entre 2024 e 2030\n",
        "        nota_1 = round(random.uniform(0, 100), 2) # gera a nota do ensino fundamental\n",
        "        nota_2 = 0 if nota_1 < 50 else round(random.uniform(0, 100), 2) # cria uma condicao para que se a nota_1 for menor que 50, automanticamente a nota_2 seja 0\n",
        "        nota_final = nota_1 if nota_2 == 0 else round((nota_1 + nota_2) / 2, 2) #cria o valor da nota final que é a diferenca entre nota_1 - nota_2\n",
        "        label_alvo = 'reprovado' if nota_final < 50 else 'aprovado' # verifica a nota final e cria condicao para aprovado ou reprovado\n",
        "\n",
        "        row = {\n",
        "            'aluno': aluno,\n",
        "            'idade': idade,\n",
        "            'casas': casas,\n",
        "            'ano_de_ingresso': ano_de_ingresso,\n",
        "            'ensino_fundamental': nota_1,\n",
        "            'ensino_medio': nota_2,\n",
        "            'nota_final': nota_final,\n",
        "            'label_alvo': label_alvo\n",
        "        }\n",
        "\n",
        "        data.append(row)\n",
        "\n",
        "    df = pd.DataFrame(data)\n",
        "    return df\n",
        "\n",
        "df = generate(1000)\n",
        "df\n"
      ],
      "metadata": {
        "id": "6l_kr9jJe4op"
      },
      "execution_count": null,
      "outputs": []
    },
    {
      "cell_type": "markdown",
      "source": [
        "# Classificação"
      ],
      "metadata": {
        "id": "xFALnaQrJBaC"
      }
    },
    {
      "cell_type": "markdown",
      "source": [
        "#### **Objetivo**\n",
        "1. Na classificação, nosso objetivo é prever ou descrever uma variavel categorica (string)\n",
        "2. Vamos usar a coluna catégorica [label_alvo] para nosso estudo.\n",
        "3. [Documentação dos algorítimos](https://scikit-learn.org/stable/supervised_learning.html#supervised-learning)"
      ],
      "metadata": {
        "id": "8E5wxAn0JGI5"
      }
    },
    {
      "cell_type": "code",
      "source": [
        "# Separar features e label\n",
        "X = df.drop(['aluno', 'label_alvo', 'casas'], axis=1) #removendo as labels categoricas para treinamento\n",
        "y = df['label_alvo']"
      ],
      "metadata": {
        "id": "xznCks1qOLnr"
      },
      "execution_count": null,
      "outputs": []
    },
    {
      "cell_type": "code",
      "source": [
        "X\n",
        "#y"
      ],
      "metadata": {
        "id": "MonvBv_v2vQ4"
      },
      "execution_count": null,
      "outputs": []
    },
    {
      "cell_type": "code",
      "source": [
        "# Codificar variáveis categóricas\n",
        "label_encoder = LabelEncoder()\n",
        "#X['casas'] = label_encoder.fit_transform(X['casas'])\n",
        "y = label_encoder.fit_transform(y) #transformando a categorica que vamos prever em numerica\n"
      ],
      "metadata": {
        "id": "jDCgKk9JOi28"
      },
      "execution_count": null,
      "outputs": []
    },
    {
      "cell_type": "code",
      "source": [
        "y"
      ],
      "metadata": {
        "id": "-_ytwdqW3CLY"
      },
      "execution_count": null,
      "outputs": []
    },
    {
      "cell_type": "code",
      "source": [
        "#Dividir em teste e treino\n",
        "X_train, X_test, y_train, y_test = train_test_split(X, y, test_size=0.2, random_state=42)"
      ],
      "metadata": {
        "id": "2eeFW28DfqOh"
      },
      "execution_count": null,
      "outputs": []
    },
    {
      "cell_type": "code",
      "source": [
        "# Inicializar e treinar o modelo\n",
        "forest_classifier = RandomForestClassifier(random_state=42)\n",
        "forest_classifier.fit(X_train, y_train)"
      ],
      "metadata": {
        "id": "EcWmPG_Afumc"
      },
      "execution_count": null,
      "outputs": []
    },
    {
      "cell_type": "code",
      "source": [
        "y_test"
      ],
      "metadata": {
        "id": "2QVzc7JM2DB3"
      },
      "execution_count": null,
      "outputs": []
    },
    {
      "cell_type": "code",
      "source": [
        "y_pred = forest_classifier.predict(X_test) #prevendo o X_test\n",
        "\n",
        "# Calcular a acurácia do modelo\n",
        "accuracy = accuracy_score(y_test, y_pred) #metrica de avaliacao\n",
        "\n",
        "#print(f'O aluno {candidato} candidado a {casa_pretendida} está {predict}')\n",
        "print(f'Acurácia do modelo: {accuracy:.2f}')\n"
      ],
      "metadata": {
        "id": "c7VN6UQhfysb"
      },
      "execution_count": null,
      "outputs": []
    },
    {
      "cell_type": "code",
      "source": [
        "X_test"
      ],
      "metadata": {
        "id": "mblkHjY4-oLO"
      },
      "execution_count": null,
      "outputs": []
    },
    {
      "cell_type": "markdown",
      "source": [
        "#### Salvando o modelo"
      ],
      "metadata": {
        "id": "3S317YV0FPoZ"
      }
    },
    {
      "cell_type": "code",
      "source": [
        "\n",
        "folder = 'classificacao'\n",
        "\n",
        "os.mkdir(folder)\n",
        "with open(f'{folder}/harrypotter_random_forest.pkl', 'wb') as f:\n",
        "    joblib.dump(forest_classifier, f)\n"
      ],
      "metadata": {
        "id": "ARo4PT2TFL9O"
      },
      "execution_count": null,
      "outputs": []
    },
    {
      "cell_type": "markdown",
      "source": [
        "### Reutilizando o modelo"
      ],
      "metadata": {
        "id": "CidAfFycFRtd"
      }
    },
    {
      "cell_type": "code",
      "source": [
        "rf_classifier = joblib.load(f'{folder}/harrypotter_random_forest.pkl')"
      ],
      "metadata": {
        "id": "S1AujX-jGmzC"
      },
      "execution_count": null,
      "outputs": []
    },
    {
      "cell_type": "code",
      "source": [
        "#testando o modelo\n",
        "\n",
        "nome_candidado = 'Maycon Batestin' #novo conjunto de dados\n",
        "idade = 35\n",
        "casa_pretendida = 'Lufa-lufa'\n",
        "ano_de_ingresso = 2024\n",
        "ensino_fundamental = 58.9\n",
        "ensino_medio \t= 10.0\n",
        "nota_final \t= (ensino_fundamental + ensino_medio) / 2\n",
        "\n",
        "X_novo = [[idade, ano_de_ingresso, ensino_fundamental, ensino_medio, nota_final]]\n",
        "\n",
        "y_pred = rf_classifier.predict(X_novo)\n",
        "resultado = label_encoder.inverse_transform(y_pred)[0]\n",
        "\n",
        "resposta = f\"O aluno {nome_candidado} pretendido a casa {casa_pretendida} foi {resultado.upper()}\""
      ],
      "metadata": {
        "id": "MMHD3U5G58aU"
      },
      "execution_count": null,
      "outputs": []
    },
    {
      "cell_type": "code",
      "source": [
        "resposta"
      ],
      "metadata": {
        "id": "-JloXioOBaQj"
      },
      "execution_count": null,
      "outputs": []
    },
    {
      "cell_type": "markdown",
      "source": [
        "### salvando o modelo"
      ],
      "metadata": {
        "id": "5Mh20mofBixi"
      }
    },
    {
      "cell_type": "markdown",
      "source": [
        "# Regressão"
      ],
      "metadata": {
        "id": "9gPbXrbfJbLh"
      }
    },
    {
      "cell_type": "markdown",
      "source": [
        "#### **Objetivo**\n",
        "1. Em regressão eu tento prever ou descrever uma categoria númerica (int)\n",
        "2. Neste caso iremos criar uma regressão para podermos prever, com base nas notas final quais sao as chances do aluno de entrar na casa pretendida.\n",
        "3. [Documentação dos algorítimos](https://scikit-learn.org/stable/supervised_learning.html#supervised-learning)\n",
        "\n"
      ],
      "metadata": {
        "id": "NfdICloTJdZM"
      }
    },
    {
      "cell_type": "code",
      "source": [
        "df = generate(1000)\n",
        "df"
      ],
      "metadata": {
        "id": "CfObmhVxPbyR"
      },
      "execution_count": null,
      "outputs": []
    },
    {
      "cell_type": "code",
      "source": [
        "#transformando o label_alvo para uma variavel numerica\n",
        "\n",
        "label_encoder = LabelEncoder()\n",
        "df['label_alvo'] = label_encoder.fit_transform(df['label_alvo'])\n",
        "df['casas'] = label_encoder.fit_transform(df['casas'])"
      ],
      "metadata": {
        "id": "uMjXDbtkSL_O"
      },
      "execution_count": null,
      "outputs": []
    },
    {
      "cell_type": "code",
      "source": [
        "#Vamos separar nossos dados para um modelo supervisionado\n",
        "#\n",
        "X = df[['nota_final', 'casas']] # a variavel numerica que influencia o label_aprovado\n",
        "y = df['label_alvo'] # a variavel alvo"
      ],
      "metadata": {
        "id": "SnFyFNZ8QEN6"
      },
      "execution_count": null,
      "outputs": []
    },
    {
      "cell_type": "code",
      "source": [
        "# dividindo em teste e treino\n",
        "X_train, X_test, y_train, y_test = train_test_split(X, y, test_size=0.2, random_state=42)"
      ],
      "metadata": {
        "id": "W6Ioqev7R9cf"
      },
      "execution_count": null,
      "outputs": []
    },
    {
      "cell_type": "code",
      "source": [
        "#criando nosso modelo de regressao\n",
        "regression_model = LogisticRegression()\n",
        "regression_model.fit(X_train, y_train)\n"
      ],
      "metadata": {
        "id": "ZqK33TEjSFbt"
      },
      "execution_count": null,
      "outputs": []
    },
    {
      "cell_type": "code",
      "source": [
        "#avaliando o modelo\n",
        "score = regression_model.score(X_test, y_test)\n",
        "print(f'Acurácia do modelo: {score}')\n",
        "\n"
      ],
      "metadata": {
        "id": "MoRMgi0eSXUh"
      },
      "execution_count": null,
      "outputs": []
    },
    {
      "cell_type": "markdown",
      "source": [
        "#### Salvando o modelo"
      ],
      "metadata": {
        "id": "RwrZFhSna5lI"
      }
    },
    {
      "cell_type": "code",
      "source": [
        "folder = 'regressao'\n",
        "\n",
        "os.mkdir(folder)\n",
        "with open(f'{folder}/harrypotter_regression_logistic.pkl', 'wb') as f:\n",
        "    joblib.dump(regression_model, f)\n"
      ],
      "metadata": {
        "id": "Mt2aQKj9a5FV"
      },
      "execution_count": null,
      "outputs": []
    },
    {
      "cell_type": "markdown",
      "source": [
        "### Reutilizando o modelo"
      ],
      "metadata": {
        "id": "dEabrL-rbExh"
      }
    },
    {
      "cell_type": "code",
      "source": [
        "#importando ele\n",
        "lg = joblib.load(f'{folder}/harrypotter_regression_logistic.pkl')"
      ],
      "metadata": {
        "id": "UJ8kvfm5bODy"
      },
      "execution_count": null,
      "outputs": []
    },
    {
      "cell_type": "code",
      "source": [
        "aluno = 'Maycon Batestin'\n",
        "casa_pretendida = 'Grifinória'\n",
        "\n",
        "nota_final = 50\n",
        "transfor_casa = label_encoder.transform([casa_pretendida])[0]\n",
        "entrada = [[nota_final, transfor_casa]]\n",
        "resultado = lg.predict_proba(entrada) # metrica para avaliar a estimativas de probabilidade, é uma array, onde o primeiro valor mais proximo do 1 representa a porcentagem em 100 e o segundo valor, mais proximo do zero indica a confianca\n",
        "\n"
      ],
      "metadata": {
        "id": "guIL9fVOTLPL"
      },
      "execution_count": null,
      "outputs": []
    },
    {
      "cell_type": "code",
      "source": [
        "print(f\"Resultado final: {resultado}\")\n",
        "print(f\"O aluno {aluno} tem {round(resultado[0][0],2) * 100}% de chance entrar na {casa_pretendida}\")"
      ],
      "metadata": {
        "id": "5QBQZOWAZ5Hn"
      },
      "execution_count": null,
      "outputs": []
    },
    {
      "cell_type": "markdown",
      "source": [
        "# Agrupamentos (clustering)"
      ],
      "metadata": {
        "id": "tvSlxzqfJj8M"
      }
    },
    {
      "cell_type": "markdown",
      "source": [
        "#### **Objetivo**\n",
        "1. Em agrupamentos eu não tento prever uma categoria especifica, tento agrupar os dados de acordo com caracteristicas em comum.\n",
        "2. Neste nosso caso vamos criar um cluster para entender como os alunos realmente estão dividos entre si, pelas notas de ensino, pelo ano de ingresso, ou pela casa que se candidataram.\n",
        "3. [Documentação dos algorítimos](https://scikit-learn.org/stable/modules/clustering.html#clustering)"
      ],
      "metadata": {
        "id": "DcTB9Jr0Jm13"
      }
    },
    {
      "cell_type": "code",
      "source": [
        "df = generate(1000)\n",
        "df"
      ],
      "metadata": {
        "id": "X09IZKxwdQCU"
      },
      "execution_count": null,
      "outputs": []
    },
    {
      "cell_type": "code",
      "source": [
        "X = df.drop(['aluno'], axis=1)  # Remover as colunas 'aluno' e 'label_alvo'\n",
        "X"
      ],
      "metadata": {
        "id": "gL7lxdJnwsr1"
      },
      "execution_count": null,
      "outputs": []
    },
    {
      "cell_type": "code",
      "source": [
        "# Converter a coluna 'casas' em valores numéricos\n",
        "le = LabelEncoder()\n",
        "X['casas'] = le.fit_transform(X['casas'])\n",
        "X['label_alvo'] = le.fit_transform(X['label_alvo'])"
      ],
      "metadata": {
        "id": "72SM04xKyodt"
      },
      "execution_count": null,
      "outputs": []
    },
    {
      "cell_type": "code",
      "source": [
        "# Normalizar os dados\n",
        "scaler = StandardScaler()\n",
        "X_scaled = scaler.fit_transform(X)"
      ],
      "metadata": {
        "id": "u-P7vkdlypUd"
      },
      "execution_count": null,
      "outputs": []
    },
    {
      "cell_type": "code",
      "source": [
        "# Criar e treinar o modelo KMeans\n",
        "km = KMeans(n_clusters=4, random_state=42)\n",
        "clusters = km.fit_predict(X_scaled)"
      ],
      "metadata": {
        "id": "s1AXV1BhyNR6"
      },
      "execution_count": null,
      "outputs": []
    },
    {
      "cell_type": "code",
      "source": [
        "# Adicionar os clusters ao DataFrame\n",
        "df['grupo'] = clusters"
      ],
      "metadata": {
        "id": "lbmVJH5Oywaw"
      },
      "execution_count": null,
      "outputs": []
    },
    {
      "cell_type": "code",
      "source": [
        "df"
      ],
      "metadata": {
        "id": "5l14AZW9yyPd"
      },
      "execution_count": null,
      "outputs": []
    },
    {
      "cell_type": "code",
      "source": [
        "df['grupo'].unique()"
      ],
      "metadata": {
        "id": "Y6FPFrB-y6Ur"
      },
      "execution_count": null,
      "outputs": []
    },
    {
      "cell_type": "code",
      "source": [
        "df.loc[df['grupo'] == 0]"
      ],
      "metadata": {
        "id": "DNeT9yzDye-e"
      },
      "execution_count": null,
      "outputs": []
    },
    {
      "cell_type": "code",
      "source": [
        "# Calcular a inércia\n",
        "inertia = km.inertia_\n",
        "# Calcular o coeficiente de silhueta\n",
        "silhouette = silhouette_score(X_scaled, clusters)"
      ],
      "metadata": {
        "id": "H3k3I1vtzyxr"
      },
      "execution_count": null,
      "outputs": []
    },
    {
      "cell_type": "code",
      "source": [
        "print(f'Inércia: {inertia}')\n",
        "print(f'Coeficiente de Silhueta: {silhouette}')"
      ],
      "metadata": {
        "id": "BCwKHcDn0D_j"
      },
      "execution_count": null,
      "outputs": []
    },
    {
      "cell_type": "markdown",
      "source": [
        "### Salvando o modelo"
      ],
      "metadata": {
        "id": "GcsdFI2N1MtH"
      }
    },
    {
      "cell_type": "code",
      "source": [
        "folder = 'clustering'\n",
        "\n",
        "os.mkdir(folder)\n",
        "with open(f'{folder}/harrypotter_clustering.pkl', 'wb') as f:\n",
        "    joblib.dump(km, f)\n"
      ],
      "metadata": {
        "id": "66AmwUot1OnV"
      },
      "execution_count": null,
      "outputs": []
    },
    {
      "cell_type": "markdown",
      "source": [
        "### Testando com novos dados"
      ],
      "metadata": {
        "id": "whXpFQLN1YGQ"
      }
    },
    {
      "cell_type": "code",
      "source": [
        "#importando o modelo\n",
        "km = joblib.load(f'{folder}/harrypotter_clustering.pkl')"
      ],
      "metadata": {
        "id": "j4pGuIir2FNi"
      },
      "execution_count": null,
      "outputs": []
    },
    {
      "cell_type": "code",
      "source": [
        "df_new = generate(10000) #gerando uma base de dados maior\n",
        "X = df_new.drop(['aluno'], axis=1)  # Remover as colunas 'aluno' e 'label_alvo'\n",
        "\n",
        "#o processo de pre processamento\n",
        "le = LabelEncoder()\n",
        "X['casas'] = le.fit_transform(X['casas'])\n",
        "X['label_alvo'] = le.fit_transform(X['label_alvo'])\n",
        "\n",
        "# Normalizar os dados\n",
        "scaler = StandardScaler()\n",
        "X_scaled = scaler.fit_transform(X)\n",
        "\n",
        "# Criar e treinar o modelo KMeans\n",
        "km = KMeans(n_clusters=4, random_state=42)\n",
        "clusters = km.fit_predict(X_scaled)\n",
        "\n",
        "df_new['grupo'] = clusters\n",
        "\n",
        "inertia = km.inertia_\n",
        "# Calcular o coeficiente de silhueta\n",
        "silhouette = silhouette_score(X_scaled, clusters)"
      ],
      "metadata": {
        "id": "zfZvn6hX1aPO"
      },
      "execution_count": null,
      "outputs": []
    },
    {
      "cell_type": "code",
      "source": [
        "print(f'Inércia: {inertia}')\n",
        "print(f'Coeficiente de Silhueta: {silhouette}')"
      ],
      "metadata": {
        "id": "NL6BQMIq2P47"
      },
      "execution_count": null,
      "outputs": []
    },
    {
      "cell_type": "markdown",
      "source": [
        "# Sistema de Recomendação"
      ],
      "metadata": {
        "id": "51jXLIhrJ9cd"
      }
    },
    {
      "cell_type": "markdown",
      "source": [
        "#### **Objetivo**\n",
        "1.  Sistemas de recomendação são frequentemente implementados usando técnicas de aprendizado supervisionado, não supervisionado ou baseados em conteúdo.\n",
        "2. Vamos recomendar a casa para o aluno, baseado na sua idade.\n",
        "3. [Documentação dos algorítimos](https://scikit-learn.org/stable/modules/generated/sklearn.neighbors.NearestNeighbors.html#sklearn.neighbors.NearestNeighbors)\n",
        "\n"
      ],
      "metadata": {
        "id": "HGNU-hSuKAZi"
      }
    },
    {
      "cell_type": "code",
      "source": [
        "#criando nosso dataframe\n",
        "\n",
        "df = generate(1000)\n",
        "df"
      ],
      "metadata": {
        "id": "I1iyWL6oXYr5"
      },
      "execution_count": null,
      "outputs": []
    },
    {
      "cell_type": "code",
      "source": [
        "df = df.loc[df['label_alvo'] == 'aprovado'] #do nosso dataset, vamos pegar apenas quem foi aprovado. Nao faz sentido recomendar para quem foi reprovado"
      ],
      "metadata": {
        "id": "qucQHlCBH0RE"
      },
      "execution_count": null,
      "outputs": []
    },
    {
      "cell_type": "code",
      "source": [
        "#selecionar apenas as variaveis que queremos\n",
        "\n",
        "X = df[['idade', 'ano_de_ingresso']]\n",
        "y = df['casas']"
      ],
      "metadata": {
        "id": "xISEwRxR3-vm"
      },
      "execution_count": null,
      "outputs": []
    },
    {
      "cell_type": "code",
      "source": [
        "# Transformando casas para um valor numerico\n",
        "\n",
        "le = LabelEncoder()\n",
        "y = le.fit_transform(y)"
      ],
      "metadata": {
        "id": "7luJvw_9488H"
      },
      "execution_count": null,
      "outputs": []
    },
    {
      "cell_type": "code",
      "source": [
        "#Treinando o sistema\n",
        "vizinho = NearestNeighbors(algorithm = 'brute') #Algoritimo é um parametro usado para buscar os vizinhos de forma mais bruta\n",
        "vizinho.fit(X, y)"
      ],
      "metadata": {
        "id": "P728Z6xF6R53"
      },
      "execution_count": null,
      "outputs": []
    },
    {
      "cell_type": "markdown",
      "source": [
        "#### Salvando o modelo"
      ],
      "metadata": {
        "id": "HxwFvHOp_isw"
      }
    },
    {
      "cell_type": "code",
      "source": [
        "folder = 'recomendacao'\n",
        "\n",
        "os.mkdir(folder)\n",
        "with open(f'{folder}/harrypotter_recomendacao.pkl', 'wb') as f:\n",
        "    joblib.dump(vizinho, f)"
      ],
      "metadata": {
        "id": "QsLhleLp_lTM"
      },
      "execution_count": null,
      "outputs": []
    },
    {
      "cell_type": "markdown",
      "source": [
        "#### Importando o modelo"
      ],
      "metadata": {
        "id": "8XbImfo2_vAR"
      }
    },
    {
      "cell_type": "code",
      "source": [
        "#importando o modelo\n",
        "viz = joblib.load(f'{folder}/harrypotter_recomendacao.pkl')"
      ],
      "metadata": {
        "id": "yaL_WoaR_1O8"
      },
      "execution_count": null,
      "outputs": []
    },
    {
      "cell_type": "markdown",
      "source": [
        "####testando"
      ],
      "metadata": {
        "id": "hurlZM4w9UPy"
      }
    },
    {
      "cell_type": "code",
      "source": [
        "aluno = 'Maycon Batestin'\n",
        "idade = 43\n",
        "ano_de_ingresso = 2024"
      ],
      "metadata": {
        "id": "eUI6o9il-2FB"
      },
      "execution_count": null,
      "outputs": []
    },
    {
      "cell_type": "code",
      "source": [
        "# Criar o novo aluno\n",
        "novo_aluno = pd.DataFrame({'idade': [idade], 'ano_de_ingresso': [ano_de_ingresso]})"
      ],
      "metadata": {
        "id": "XOW0nLUs7o5d"
      },
      "execution_count": null,
      "outputs": []
    },
    {
      "cell_type": "code",
      "source": [
        "# Criar o modelo Nearest Neighbors\n",
        "viz.fit(X, y)"
      ],
      "metadata": {
        "id": "vGPHlpfuAKdN"
      },
      "execution_count": null,
      "outputs": []
    },
    {
      "cell_type": "code",
      "source": [
        "distancias, indices_vizinhos = vizinho.kneighbors(novo_aluno) # Encontrar os vizinhos mais próximos do novo aluno\n"
      ],
      "metadata": {
        "id": "-op3g2EK9olr"
      },
      "execution_count": null,
      "outputs": []
    },
    {
      "cell_type": "code",
      "source": [
        "# Obter as casas dos vizinhos mais próximos\n",
        "casas_vizinhos = df.iloc[indices_vizinhos[0]]['casas'].values\n"
      ],
      "metadata": {
        "id": "ilRvsTsE9rN9"
      },
      "execution_count": null,
      "outputs": []
    },
    {
      "cell_type": "code",
      "source": [
        "# Encontrar a casa mais comum entre os vizinhos\n",
        "casa_recomendada = pd.Series(casas_vizinhos).mode()[0] #aqui pegamos da serie casa_vizinhos que estabelecemos acima, e puxamos o primeiro item(0) para a variavel casa_recomendada\n"
      ],
      "metadata": {
        "id": "-DC2ooet9vp9"
      },
      "execution_count": null,
      "outputs": []
    },
    {
      "cell_type": "code",
      "source": [
        "\n",
        "print(f\"Recomendamos para o {aluno} a casa {casa_recomendada.upper()}\")"
      ],
      "metadata": {
        "id": "yvH2s51W-YGz"
      },
      "execution_count": null,
      "outputs": []
    }
  ]
}