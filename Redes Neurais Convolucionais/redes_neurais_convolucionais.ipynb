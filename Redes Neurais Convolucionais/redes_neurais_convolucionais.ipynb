{
  "cells": [
    {
      "cell_type": "markdown",
      "metadata": {
        "id": "0W0JSA7WyST3"
      },
      "source": [
        "# Redes Neurais Convolucionais"
      ]
    },
    {
      "cell_type": "markdown",
      "metadata": {
        "id": "0BGseAaqBhOx"
      },
      "source": [
        "### Descriçao\n",
        "\n",
        "---\n",
        "1. O objetivo deste notebook é Redes Neurais Convolucionais.\n",
        "2. Os dados para usar serão clonados do nosso próprio github, pela pasta dataset.\n",
        "3. Vamos treinar nosso modelo para que ele aprenda a detectar doença em plantações de tomate.\n",
        "---"
      ]
    },
    {
      "cell_type": "markdown",
      "metadata": {
        "id": "2OHIGu7EB25Y"
      },
      "source": [
        "### Dicionário\n",
        "\n",
        "\n",
        "Class\t                                                  | Type  \t  |    Description                              |\n",
        "----------------------------------------------------------|:---------:|:-------------------------------------------:|\n",
        "tomato_mosaic_virus  \t  \t\t\t\t\t\t\t\t\t\t  \t  |Class     | Imagem dos mosaico de vírus\t                    |\n",
        "Target Spot\t\t\t\t\t\t\t\t\t\t\t\t\t\t  |Class    | Ponto alvo                         |\n",
        "Bacterial_spot \t\t     \t\t\t\t\t\t\t\t\t\t  |Class     | Pontos com bactéria\t                |\n",
        "Tomato_Yellow_Leaf_Curl_Virus  | Class | Vírus do enrolamento da folha amarela do tomate | float | nota final do ensino médio\n",
        "Late_blight  | Class | Folhas queimadas\n",
        "Leaf_Mold | Class | Molde de folha\n",
        "Early_blight | Class | Preconceito\n",
        "Spider_mites Two-spotted_spider_mite  | Class | Ácaros e outras pragas\n",
        "Tomato___healthy   | Class | Saúde dos Tomates\n",
        "Septoria_leaf_spot   | Class | Mancha foliar de Septoria\n",
        "\n"
      ]
    },
    {
      "cell_type": "markdown",
      "source": [
        "# Documentação\n",
        "\n",
        "1. ** Pandas ** -> [Link](https://pandas.pydata.org/docs/)\n",
        "2. ** Numpy ** -> [Link](https://numpy.org/doc/)\n",
        "4. ** Scikit Learn ** -> [Link](https://scikit-learn.org/stable/)\n",
        "5. ** Keras ** -> [Link](https://keras.io/api/)\n",
        "6. ** Tensor Flow ** -> [Tensor Flow](https://www.tensorflow.org/api_docs/python/tf/keras)"
      ],
      "metadata": {
        "id": "iM7gVPddWylD"
      }
    },
    {
      "cell_type": "markdown",
      "metadata": {
        "id": "-4GkP4zAB5D6"
      },
      "source": [
        "# Instalação de pacotes"
      ]
    },
    {
      "cell_type": "code",
      "execution_count": null,
      "metadata": {
        "id": "vcmBuoIs0Qrk"
      },
      "outputs": [],
      "source": [
        "!pip install torch torchvision torchaudio pandas numpy keras"
      ]
    },
    {
      "cell_type": "markdown",
      "metadata": {
        "id": "6KVRo2QhCMpE"
      },
      "source": [
        "# Obtendo o dataset"
      ]
    },
    {
      "cell_type": "code",
      "execution_count": null,
      "metadata": {
        "id": "kJgY2Sd60_x2"
      },
      "outputs": [],
      "source": [
        "!git clone https://github.com/batestin1/coding_the_future_dio_redes_neurais.git #clona o repositorio\n",
        "!mv coding_the_future_dio_redes_neurais/dataset /content/ #move apenas a pasta dataset para fora do diretorio\n",
        "!rm -rf coding_the_future_dio_redes_neurais #exclui o restante que nao nos interessa\n",
        "\n"
      ]
    },
    {
      "cell_type": "markdown",
      "metadata": {
        "id": "igTRMPADEQ6p"
      },
      "source": [
        "# Bibliotecas"
      ]
    },
    {
      "cell_type": "code",
      "execution_count": null,
      "metadata": {
        "id": "J-Y0HTwLyUtt"
      },
      "outputs": [],
      "source": [
        "import numpy as np #para criação de matrizes\n",
        "import os #para manipulação de folders e arquivos\n",
        "\n",
        "from keras.models import Sequential #para iniciar nossa rede neural\n",
        "from keras.layers import Conv2D #o metodo convolucional\n",
        "from keras.layers import MaxPooling2D #etapa de max pooling\n",
        "from keras.layers import Flatten #etapa de flatting\n",
        "from keras.layers import Dense #para criacao das redes\n",
        "from keras.layers import Dropout #para ajustar o overfitting\n",
        "from keras.preprocessing import image #para testar o resultado\n",
        "from keras.layers.experimental.preprocessing import Rescaling #para transformar RGB em 0 e 1\n",
        "from keras.preprocessing.image import ImageDataGenerator # Para o pre-processamento de imagens\n",
        "from tensorflow.keras.utils import plot_model #para visualizar nossa rede!\n",
        "from keras.models import load_model #para salvar modelos do keras\n",
        "\n"
      ]
    },
    {
      "cell_type": "markdown",
      "metadata": {
        "id": "iqnN4z8OEzym"
      },
      "source": [
        "# Construindo a RNC"
      ]
    },
    {
      "cell_type": "code",
      "execution_count": null,
      "metadata": {
        "id": "SZWXBuX3FEa8"
      },
      "outputs": [],
      "source": [
        "# Inicializando a rede\n",
        "rnc = Sequential()"
      ]
    },
    {
      "cell_type": "code",
      "execution_count": null,
      "metadata": {
        "id": "Q9N0b2PKKOqL"
      },
      "outputs": [],
      "source": [
        "#Criando Camadas Convolucionais\n",
        "\n",
        "# Conv2D(32, (3, 3) O primeiro parametro (32) é o número de detectores de caracteristica. O (3,3) é filter detecter\n",
        "# input_shape é o formato da imagem, os tres valores sao os pixels, sendo que o 3 sao as camadas rgb (uma vez que a imagem é colorida)\n",
        "# funcao de ativacao é a Relu, ou Rectified Linear Unit.\n",
        "rnc.add(Rescaling(scale=1.0/255)) #adiciono a primeira camada, um pre processamento de imagem transformando em 0 e 1 o RGB da imagem\n",
        "rnc.add(Conv2D(32, (3, 3), input_shape=(128, 128, 3), activation='relu'))\n",
        "rnc.add(MaxPooling2D(pool_size=(2, 2))) #etapa do MaxPolling, é um mapa de caracteristica reduzida, ele reduz o tamanho da imagem sem perder as caracteristica. O parametro pool_size é o tamanho que definimos.\n",
        "\n",
        "rnc.add(Conv2D(16, (3, 3), activation='relu'))\n",
        "rnc.add(MaxPooling2D(pool_size=(2, 2)))\n",
        "\n",
        "rnc.add(Conv2D(8, (3, 3), activation='relu'))\n",
        "rnc.add(MaxPooling2D(pool_size=(2, 2)))"
      ]
    },
    {
      "cell_type": "code",
      "execution_count": null,
      "metadata": {
        "id": "vTVPMCVEE54T"
      },
      "outputs": [],
      "source": [
        "# Flattening\n",
        "# O flatten transforma a matriz em um vetor para entrar dentro das camadas densas (ocultas)\n",
        "\n",
        "rnc.add(Flatten())"
      ]
    },
    {
      "cell_type": "code",
      "execution_count": null,
      "metadata": {
        "id": "wRvffSYAF45Q"
      },
      "outputs": [],
      "source": [
        "# Full Connect\n",
        "\n",
        "rnc.add(Dense(units= 128, activation = 'relu')) #esta defini a Esta é uma camada densa (totalmente conectada), o tipo mais comum de camada em redes neurais. Cada neurônio desta camada recebe entrada de todos os neurônios da camada anterior.\n",
        "rnc.add(Dropout(rate = 0.5)) #Esta é uma técnica de regularização que ajuda a prevenir o overfitting. Durante o treinamento, a camada \"desativa\" aleatoriamente (define como zero) uma fração das unidades de entrada da camada durante cada atualização de treino.\n",
        "\n",
        "\n"
      ]
    },
    {
      "cell_type": "code",
      "source": [
        "# Camada de Saida\n",
        "\n",
        "#output layer\n",
        "rnc.add(Dense(units = 10, activation = 'softmax')) #Define a função de ativação a ser usada para os neurônios desta camada. A função de ativação softmax transforma os valores de saída em uma distribuição de probabilidade sobre as classes, o que significa que a soma das probabilidades será igual a 1."
      ],
      "metadata": {
        "id": "hBkar9yguW_J"
      },
      "execution_count": null,
      "outputs": []
    },
    {
      "cell_type": "code",
      "execution_count": null,
      "metadata": {
        "id": "WHbun15XGGnp"
      },
      "outputs": [],
      "source": [
        "# Copilando a rede\n",
        "rnc.compile(optimizer='adam', loss='binary_crossentropy', metrics=['accuracy'])\n",
        "\n",
        "#rnc.compile(optimizer = 'adam', loss = 'categorical_crossentropy', metrics = ['accuracy'])"
      ]
    },
    {
      "cell_type": "markdown",
      "metadata": {
        "id": "jPcB-Y_FFIym"
      },
      "source": [
        "# Pré-processamento das imagens\n"
      ]
    },
    {
      "cell_type": "markdown",
      "metadata": {
        "id": "e6Cb-DftGqd3"
      },
      "source": [
        "#### Treino"
      ]
    },
    {
      "cell_type": "code",
      "execution_count": null,
      "metadata": {
        "id": "4Sn3RPEEFKge"
      },
      "outputs": [],
      "source": [
        "train_datagen = ImageDataGenerator(\n",
        "        shear_range=0.2, # realiza transformações geométricas da imagem, de forma aleatória\n",
        "        zoom_range=0.2, # imagens que ele vai aplicar o zoom\n",
        "        horizontal_flip=True) # o horizontal flip permite girar a imagem horizontal"
      ]
    },
    {
      "cell_type": "code",
      "execution_count": null,
      "metadata": {
        "id": "1ZYfedtYGhat"
      },
      "outputs": [],
      "source": [
        "test_datagen = ImageDataGenerator(rescale=1./255) #transforma a rescala do teste"
      ]
    },
    {
      "cell_type": "code",
      "execution_count": null,
      "metadata": {
        "id": "Z9INdBGaGi7l"
      },
      "outputs": [],
      "source": [
        "training_set = train_datagen.flow_from_directory(\n",
        "        '/content/dataset/rnc/train',\n",
        "        target_size=(128, 128),\n",
        "        batch_size=128,\n",
        "        class_mode='categorical' )"
      ]
    },
    {
      "cell_type": "code",
      "execution_count": null,
      "metadata": {
        "id": "IX2rsc8AGnip"
      },
      "outputs": [],
      "source": [
        "label_map = (training_set.class_indices) # para visualizar as classes que ele identificou!"
      ]
    },
    {
      "cell_type": "code",
      "execution_count": null,
      "metadata": {
        "id": "yNlKt6neGpJg"
      },
      "outputs": [],
      "source": [
        "label_map"
      ]
    },
    {
      "cell_type": "markdown",
      "metadata": {
        "id": "OfjzqIYHGsaX"
      },
      "source": [
        "#### Teste"
      ]
    },
    {
      "cell_type": "code",
      "execution_count": null,
      "metadata": {
        "id": "tdVrNjfAGt5s"
      },
      "outputs": [],
      "source": [
        "test_set = test_datagen.flow_from_directory(\n",
        "        '/content/dataset/rnc/test',\n",
        "        target_size=(128, 128),\n",
        "        batch_size=128,\n",
        "        class_mode='categorical')"
      ]
    },
    {
      "cell_type": "markdown",
      "metadata": {
        "id": "3qHym1KNFcgT"
      },
      "source": [
        " # Treinando A Rede Neural"
      ]
    },
    {
      "cell_type": "code",
      "source": [
        " rnc.fit_generator(\n",
        "    training_set,\n",
        "    steps_per_epoch=1,  # Ajuste conforme necessário\n",
        "    epochs=4, # Tentativa com menor epoch para visualizacao em sala de aula, em casa voces podem ajustar para 10000, uma vez que convolucional é recomendado uma boa etapa de treino\n",
        "    validation_data=test_set,\n",
        "    validation_steps=1  # Ajuste conforme necessário\n",
        ")"
      ],
      "metadata": {
        "id": "D_IHF4CPv0zI"
      },
      "execution_count": null,
      "outputs": []
    },
    {
      "cell_type": "code",
      "execution_count": null,
      "metadata": {
        "id": "3F0uxX4rGWHT"
      },
      "outputs": [],
      "source": [
        "# Esta celula esta com os epochs corretos que garantem o melhor treinamento\n",
        "# rnc.fit_generator(\n",
        "#        training_set,\n",
        "#        steps_per_epoch=10,\n",
        "#        epochs=2000,\n",
        "#        validation_data=test_set,\n",
        "#        validation_steps=10)\n",
        "\n"
      ]
    },
    {
      "cell_type": "markdown",
      "source": [
        "#### avaliação do modelo"
      ],
      "metadata": {
        "id": "qAgvRsm-iX_q"
      }
    },
    {
      "cell_type": "code",
      "source": [
        "# Avaliando o modelo no conjunto de teste\n",
        "test_loss, test_accuracy = rnc.evaluate(test_set, steps=50)\n",
        "print(f'Test loss: {test_loss}')\n",
        "print(f'Test accuracy: {test_accuracy}')\n"
      ],
      "metadata": {
        "id": "sBn6gaP7iJYS"
      },
      "execution_count": null,
      "outputs": []
    },
    {
      "cell_type": "markdown",
      "source": [
        "# Testando a performance"
      ],
      "metadata": {
        "id": "NzIU-vDYiwdP"
      }
    },
    {
      "cell_type": "code",
      "source": [
        "label_map.keys()"
      ],
      "metadata": {
        "id": "SmXrByGVkx4-"
      },
      "execution_count": null,
      "outputs": []
    },
    {
      "cell_type": "code",
      "source": [
        "\n",
        "\n",
        "# Carregar uma imagem para fazer a previsão\n",
        "img_path = '/content/dataset/rnc/test/Bacterial_spot/01a3cf3f-94c1-44d5-8972-8c509d62558e___GCREC_Bact.Sp 3396.JPG'\n",
        "img = image.load_img(img_path, target_size=(128, 128))  # Use o mesmo tamanho usado para treino\n",
        "img_array = image.img_to_array(img)\n",
        "img_array = np.expand_dims(img_array, axis=0)\n",
        "\n",
        "# Normalizar a imagem se necessário\n",
        "img_array /= 255.0  # Normalização pode variar dependendo do preprocessamento\n",
        "\n",
        "# Fazer a previsão\n",
        "prediction = rnc.predict(img_array)\n",
        "\n",
        "# Obter o índice da classe com a maior probabilidade\n",
        "predicted_class = np.argmax(prediction, axis=1)[0]\n",
        "\n",
        "inverse_label_map = {v: k for k, v in label_map.items()} # Inverter o label_map para mapear índices às classes\n",
        "\n",
        "predicted_class_name = inverse_label_map[prediction] # Obter o nome da classe predita\n",
        "\n",
        "print(f\"A imagem é: {predicted_class_name.replace('_',' ').replace('Tomato', '').replace(' ','')}\")\n"
      ],
      "metadata": {
        "id": "_DrIwBXRiivn"
      },
      "execution_count": null,
      "outputs": []
    },
    {
      "cell_type": "markdown",
      "metadata": {
        "id": "CfEQ3UWlGzmv"
      },
      "source": [
        "# Salvando o modelo"
      ]
    },
    {
      "cell_type": "code",
      "execution_count": null,
      "metadata": {
        "id": "X3iJRuC5G1Ek"
      },
      "outputs": [],
      "source": [
        "folder = 'rnc/'\n",
        "\n",
        "# Verifica se o diretório existe e, se não existir, cria o diretório\n",
        "if not os.path.exists(folder):\n",
        "    os.makedirs(folder)\n",
        "\n",
        "# Salva o modelo no diretório especificado\n",
        "rnc.save_weights(os.path.join(folder, 'rede_neural_convolucional.h5'))"
      ]
    },
    {
      "cell_type": "markdown",
      "metadata": {
        "id": "qDY8e3WHPam4"
      },
      "source": [
        "# Bonus Track"
      ]
    },
    {
      "cell_type": "markdown",
      "metadata": {
        "id": "s0Lj5UOwPdJF"
      },
      "source": [
        "### Você conhece o [Teachable Machine](https://teachablemachine.withgoogle.com/train)?\n",
        "\n",
        "1. Plataforma low code de treinamento de redes convolucionais\n",
        "2. exporta em modelos .h5\n",
        "3. Setup simples e intuitivo\n"
      ]
    },
    {
      "cell_type": "markdown",
      "metadata": {
        "id": "3rv48ZDOSkId"
      },
      "source": [
        "# Importando os modelos"
      ]
    },
    {
      "cell_type": "code",
      "execution_count": null,
      "metadata": {
        "id": "Y-Q_jAcSPb_Q"
      },
      "outputs": [],
      "source": [
        "\n",
        "model = load_model(os.path.join(folder, 'rede_neural_convolucional.h5'))"
      ]
    }
  ],
  "metadata": {
    "colab": {
      "collapsed_sections": [
        "0W0JSA7WyST3",
        "6KVRo2QhCMpE",
        "CfEQ3UWlGzmv",
        "qDY8e3WHPam4"
      ],
      "provenance": []
    },
    "kernelspec": {
      "display_name": "Python 3",
      "name": "python3"
    },
    "language_info": {
      "name": "python"
    }
  },
  "nbformat": 4,
  "nbformat_minor": 0
}