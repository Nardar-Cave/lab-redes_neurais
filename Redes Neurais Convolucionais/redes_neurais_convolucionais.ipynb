{
  "cells": [
    {
      "cell_type": "markdown",
      "metadata": {
        "id": "0W0JSA7WyST3"
      },
      "source": [
        "# Redes Neurais Convolucionais"
      ]
    },
    {
      "cell_type": "markdown",
      "metadata": {
        "id": "0BGseAaqBhOx"
      },
      "source": [
        "### Descriçao\n",
        "\n",
        "---\n",
        "1. O objetivo deste notebook é Redes Neurais Convolucionais.\n",
        "2. Os dados para usar serão clonados do nosso próprio github, pela pasta dataset.\n",
        "3. Vamos treinar nosso modelo para que ele aprenda a detectar doença em plantações de tomate.\n",
        "---"
      ]
    },
    {
      "cell_type": "markdown",
      "metadata": {
        "id": "2OHIGu7EB25Y"
      },
      "source": [
        "\n",
        "### Dicionário\n",
        "\n",
        "\n",
        "Class\t                                                  | Type  \t  |    Description                              |\n",
        "----------------------------------------------------------|:---------:|:-------------------------------------------:|\n",
        "tomato_mosaic_virus  \t  \t\t\t\t\t\t\t\t\t\t  \t  |Class     | Imagem dos mosaico de vírus\t                    |\n",
        "Target Spot\t\t\t\t\t\t\t\t\t\t\t\t\t\t  |Class    | Ponto alvo                         |\n",
        "Bacterial_spot \t\t     \t\t\t\t\t\t\t\t\t\t  |Class     | Pontos com bactéria\t                |\n",
        "Tomato_Yellow_Leaf_Curl_Virus  | Class | Vírus do enrolamento da folha amarela do tomate | float | nota final do ensino médio\n",
        "Late_blight  | Class | Folhas queimadas\n",
        "Leaf_Mold | Class | Molde de folha\n",
        "Early_blight | Class | Preconceito\n",
        "Spider_mites Two-spotted_spider_mite  | Class | Ácaros e outras pragas\n",
        "Tomato___healthy   | Class | Saúde dos Tomates\n",
        "Septoria_leaf_spot   | Class | Mancha foliar de Septoria\n"
      ]
    },
    {
      "cell_type": "markdown",
      "metadata": {},
      "source": [
        "# Documentação\n",
        "\n",
        "1. ** Pandas ** -> [Link](https://pandas.pydata.org/docs/)\n",
        "2. ** Numpy ** -> [Link](https://numpy.org/doc/)\n",
        "4. ** Scikit Learn ** -> [Link](https://scikit-learn.org/stable/)\n",
        "5. ** Keras ** -> [Link](https://keras.io/api/)\n",
        "6. ** Tensor Flow ** -> [Tensor Flow](https://www.tensorflow.org/api_docs/python/tf/keras)"
      ]
    },
    {
      "cell_type": "markdown",
      "metadata": {
        "id": "-4GkP4zAB5D6"
      },
      "source": [
        "# Instalação de pacotes"
      ]
    },
    {
      "cell_type": "code",
      "execution_count": null,
      "metadata": {
        "colab": {
          "base_uri": "https://localhost:8080/"
        },
        "id": "vcmBuoIs0Qrk",
        "outputId": "5a870414-fd51-4e0f-8d7a-866195339a08"
      },
      "outputs": [],
      "source": [
        "!pip install torch torchvision torchaudio pandas numpy keras"
      ]
    },
    {
      "cell_type": "markdown",
      "metadata": {
        "id": "6KVRo2QhCMpE"
      },
      "source": [
        "# Obtendo o dataset"
      ]
    },
    {
      "cell_type": "code",
      "execution_count": null,
      "metadata": {
        "colab": {
          "base_uri": "https://localhost:8080/"
        },
        "id": "kJgY2Sd60_x2",
        "outputId": "2744a796-8191-4fe1-ceaa-ed21a41cf602"
      },
      "outputs": [],
      "source": [
        "!git clone https://github.com/batestin1/coding_the_future_dio_redes_neurais.git #clona o repositorio\n",
        "!mv coding_the_future_dio_redes_neurais/dataset /content/ #move apenas a pasta dataset para fora do diretorio\n",
        "!rm -rf coding_the_future_dio_redes_neurais #exclui o restante que nao nos interessa\n",
        "\n"
      ]
    },
    {
      "cell_type": "markdown",
      "metadata": {
        "id": "igTRMPADEQ6p"
      },
      "source": [
        "# Bibliotecas"
      ]
    },
    {
      "cell_type": "code",
      "execution_count": null,
      "metadata": {
        "id": "J-Y0HTwLyUtt"
      },
      "outputs": [],
      "source": [
        "import numpy as np\n",
        "import os\n",
        "\n",
        "from keras.models import Sequential\n",
        "from keras.layers import Conv2D #o metodo que consegue ler imagem e transformar em bits\n",
        "from keras.layers import MaxPooling2D\n",
        "from keras.layers import Flatten\n",
        "from keras.layers import Dense\n",
        "from keras.layers import Dropout\n",
        "from keras.preprocessing.image import ImageDataGenerator # Para o pre-processamento de imagens\n",
        "from tensorflow.keras.utils import plot_model\n",
        "from keras.models import load_model #para salvar modelos do keras\n",
        "\n",
        "from torchvision.datasets import ImageFolder\n",
        "from torchvision.transforms import ToTensor\n"
      ]
    },
    {
      "cell_type": "markdown",
      "metadata": {
        "id": "iqnN4z8OEzym"
      },
      "source": [
        "# Construindo a RNC"
      ]
    },
    {
      "cell_type": "code",
      "execution_count": null,
      "metadata": {
        "id": "SZWXBuX3FEa8"
      },
      "outputs": [],
      "source": [
        "# Invocando o metódo\n",
        "rnc = Sequential()"
      ]
    },
    {
      "cell_type": "code",
      "execution_count": null,
      "metadata": {
        "id": "Q9N0b2PKKOqL"
      },
      "outputs": [],
      "source": [
        "#Criando Camadas\n",
        "\n",
        "rnc.add(Conv2D(32, (3, 3), input_shape=(128, 128, 3), activation='relu'))\n",
        "rnc.add(MaxPooling2D(pool_size=(2, 2)))\n",
        "\n",
        "rnc.add(Conv2D(16, (3, 3), activation='relu'))\n",
        "rnc.add(MaxPooling2D(pool_size=(2, 2)))\n",
        "\n",
        "rnc.add(Conv2D(8, (3, 3), activation='relu'))\n",
        "rnc.add(MaxPooling2D(pool_size=(2, 2)))"
      ]
    },
    {
      "cell_type": "code",
      "execution_count": null,
      "metadata": {
        "id": "vTVPMCVEE54T"
      },
      "outputs": [],
      "source": [
        "# Flattening\n",
        "rnc.add(Flatten())"
      ]
    },
    {
      "cell_type": "code",
      "execution_count": null,
      "metadata": {
        "id": "wRvffSYAF45Q"
      },
      "outputs": [],
      "source": [
        "# Dense layers\n",
        "rnc.add(Dense(units=128, activation='relu'))\n",
        "rnc.add(Dense(units=1, activation='sigmoid'))\n"
      ]
    },
    {
      "cell_type": "code",
      "execution_count": null,
      "metadata": {
        "id": "WHbun15XGGnp"
      },
      "outputs": [],
      "source": [
        "# Copilando a rede\n",
        "rnc.compile(optimizer='adam', loss='binary_crossentropy', metrics=['accuracy'])\n",
        "\n",
        "#rnc.compile(optimizer = 'adam', loss = 'categorical_crossentropy', metrics = ['accuracy'])"
      ]
    },
    {
      "cell_type": "code",
      "execution_count": null,
      "metadata": {
        "colab": {
          "base_uri": "https://localhost:8080/"
        },
        "id": "TeOYqqz8GKV6",
        "outputId": "f6facf7a-3a39-43c8-bfb9-fd891c6f7942"
      },
      "outputs": [],
      "source": [
        "rnc.summary()"
      ]
    },
    {
      "cell_type": "markdown",
      "metadata": {
        "id": "mSqT1Z_PGETc"
      },
      "source": [
        "classifier"
      ]
    },
    {
      "cell_type": "markdown",
      "metadata": {
        "id": "jPcB-Y_FFIym"
      },
      "source": [
        "# Pré-processamento das imagens\n"
      ]
    },
    {
      "cell_type": "markdown",
      "metadata": {
        "id": "e6Cb-DftGqd3"
      },
      "source": [
        "#### Treino"
      ]
    },
    {
      "cell_type": "code",
      "execution_count": null,
      "metadata": {
        "id": "4Sn3RPEEFKge"
      },
      "outputs": [],
      "source": [
        "train_datagen = ImageDataGenerator(\n",
        "        rescale=1./255,\n",
        "        shear_range=0.2,\n",
        "        zoom_range=0.2,\n",
        "        horizontal_flip=True)"
      ]
    },
    {
      "cell_type": "code",
      "execution_count": null,
      "metadata": {
        "id": "1ZYfedtYGhat"
      },
      "outputs": [],
      "source": [
        "test_datagen = ImageDataGenerator(rescale=1./255)"
      ]
    },
    {
      "cell_type": "code",
      "execution_count": null,
      "metadata": {
        "colab": {
          "base_uri": "https://localhost:8080/"
        },
        "id": "Z9INdBGaGi7l",
        "outputId": "ca5783b9-824c-437b-889b-62cc26ae07ba"
      },
      "outputs": [],
      "source": [
        "training_set = train_datagen.flow_from_directory(\n",
        "        '/content/dataset/rnc/train',\n",
        "        target_size=(128, 128),\n",
        "        batch_size=64,\n",
        "        class_mode='categorical' )"
      ]
    },
    {
      "cell_type": "code",
      "execution_count": null,
      "metadata": {
        "id": "IX2rsc8AGnip"
      },
      "outputs": [],
      "source": [
        "label_map = (training_set.class_indices)"
      ]
    },
    {
      "cell_type": "code",
      "execution_count": null,
      "metadata": {
        "colab": {
          "base_uri": "https://localhost:8080/"
        },
        "id": "yNlKt6neGpJg",
        "outputId": "310a9241-f317-46ca-dc47-7c75b481d743"
      },
      "outputs": [],
      "source": [
        "label_map"
      ]
    },
    {
      "cell_type": "markdown",
      "metadata": {
        "id": "OfjzqIYHGsaX"
      },
      "source": [
        "#### Teste"
      ]
    },
    {
      "cell_type": "code",
      "execution_count": null,
      "metadata": {
        "colab": {
          "base_uri": "https://localhost:8080/"
        },
        "id": "tdVrNjfAGt5s",
        "outputId": "d0ea4f0d-870a-4d3b-bf53-fc9a6198c7a3"
      },
      "outputs": [],
      "source": [
        "test_set = test_datagen.flow_from_directory(\n",
        "        '/content/dataset/rnc/test',\n",
        "        target_size=(128, 128),\n",
        "        batch_size=64,\n",
        "        class_mode='categorical')"
      ]
    },
    {
      "cell_type": "markdown",
      "metadata": {
        "id": "3qHym1KNFcgT"
      },
      "source": [
        " # Criando o Modelo"
      ]
    },
    {
      "cell_type": "code",
      "execution_count": null,
      "metadata": {
        "colab": {
          "base_uri": "https://localhost:8080/"
        },
        "id": "3F0uxX4rGWHT",
        "outputId": "6aa0baa5-cf43-403b-bc81-648bfe4775da"
      },
      "outputs": [],
      "source": [
        "rnc.fit_generator(\n",
        "        training_set,\n",
        "        steps_per_epoch=20,\n",
        "        epochs=10000,\n",
        "        validation_data=test_set,\n",
        "        validation_steps=100)\n",
        "\n"
      ]
    },
    {
      "cell_type": "markdown",
      "metadata": {
        "id": "CfEQ3UWlGzmv"
      },
      "source": [
        "# Salvando o modelo"
      ]
    },
    {
      "cell_type": "code",
      "execution_count": null,
      "metadata": {
        "id": "X3iJRuC5G1Ek"
      },
      "outputs": [],
      "source": [
        "folder = 'rnc/'\n",
        "\n",
        "# Verifica se o diretório existe e, se não existir, cria o diretório\n",
        "if not os.path.exists(folder):\n",
        "    os.makedirs(folder)\n",
        "\n",
        "# Salva o modelo no diretório especificado\n",
        "rnc.save_weights(os.path.join(folder, 'rede_neural_convolucional.h5'))"
      ]
    },
    {
      "cell_type": "markdown",
      "metadata": {
        "id": "qDY8e3WHPam4"
      },
      "source": [
        "# Bonus Track"
      ]
    },
    {
      "cell_type": "markdown",
      "metadata": {
        "id": "s0Lj5UOwPdJF"
      },
      "source": [
        "### Você conhece o [Teachable Machine](https://teachablemachine.withgoogle.com/train)?\n",
        "\n",
        "1. Plataforma low code de treinamento de redes convolucionais\n",
        "2. exporta em modelos .h5\n",
        "3. Setup simples e intuitivo\n"
      ]
    },
    {
      "cell_type": "markdown",
      "metadata": {},
      "source": [
        "# Importando os modelos"
      ]
    },
    {
      "cell_type": "code",
      "execution_count": null,
      "metadata": {
        "id": "Y-Q_jAcSPb_Q"
      },
      "outputs": [],
      "source": [
        "\n",
        "model = load_model(os.path.join(folder, 'rede_neural_convolucional.h5'))"
      ]
    }
  ],
  "metadata": {
    "colab": {
      "provenance": []
    },
    "kernelspec": {
      "display_name": "Python 3",
      "name": "python3"
    },
    "language_info": {
      "name": "python"
    }
  },
  "nbformat": 4,
  "nbformat_minor": 0
}
