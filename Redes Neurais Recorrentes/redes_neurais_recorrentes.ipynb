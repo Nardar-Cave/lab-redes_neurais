{
  "cells": [
    {
      "cell_type": "markdown",
      "metadata": {
        "id": "A-h53Z50hj0-"
      },
      "source": [
        "# Redes Neurais Recorrentes"
      ]
    },
    {
      "cell_type": "markdown",
      "metadata": {
        "id": "PJB3tpd7hok1"
      },
      "source": [
        "### Descriçao\n",
        "\n",
        "---\n",
        "1. O objetivo deste notebook é construir uma Rede Neural Recorrente.\n",
        "2. Utilizaremos o conjunto de dados proposto no [gist](https://gist.githubusercontent.com/batestin1/b8f7c0a26c9669013ba451c18e381d75/raw/e355693a14880cd8dbe2bee26a52dafdc9aaabec/gistfile1.txt\n",
        "\n",
        "3. O problema consiste em prever as ações temporais do preço da Google na bolsa de valores\n",
        "---"
      ]
    },
    {
      "cell_type": "markdown",
      "metadata": {
        "id": "YVo2gtjgiLoY"
      },
      "source": [
        "### Dicionário\n",
        "\n",
        "\n",
        "Fields\t                                                  | Type  \t  |    Description                              |\n",
        "----------------------------------------------------------|:---------:|:-------------------------------------------:|\n",
        "Date \t  \t\t\t\t\t\t\t\t\t\t  \t  |string     | Data da alteração |\n",
        "Open\t\t\t\t\t\t\t\t\t\t\t\t\t\t  |float    | preço da abertura                        |\n",
        "High\t\t     \t\t\t\t\t\t\t\t\t\t  |float     | preço mais alto no dia\t               |\n",
        "Low | float | preco mais baixo no dia\n",
        "Close | float | preco de fechamento\n",
        "Volume | float | Volume total do dia\n",
        "  "
      ]
    },
    {
      "cell_type": "markdown",
      "metadata": {
        "id": "6Lt6i3j5i_xV"
      },
      "source": [
        "# Instalação dos pacotes"
      ]
    },
    {
      "cell_type": "code",
      "execution_count": null,
      "metadata": {
        "id": "zf-NZ28kjAms"
      },
      "outputs": [],
      "source": [
        "!pip install pandas numpy scikit-learn keras matplotlib"
      ]
    },
    {
      "cell_type": "markdown",
      "metadata": {
        "id": "4YpmKO3YjDFB"
      },
      "source": [
        "# Documentação\n",
        "\n",
        "1. ** Pandas ** -> [Link](https://pandas.pydata.org/docs/)\n",
        "2. ** Numpy ** -> [Link](https://numpy.org/doc/)\n",
        "4. ** Scikit Learn ** -> [Link](https://scikit-learn.org/stable/)\n",
        "5. ** Keras ** -> [Link](https://keras.io/api/)\n",
        "6. ** Tensor Flow ** -> [Tensor Flow](https://www.tensorflow.org/api_docs/python/tf/keras)\n",
        "\n"
      ]
    },
    {
      "cell_type": "markdown",
      "metadata": {
        "id": "d11LZE2kjFJ0"
      },
      "source": [
        "# Instalando as bibliotecas"
      ]
    },
    {
      "cell_type": "code",
      "execution_count": null,
      "metadata": {
        "id": "dL4RVruphx5x"
      },
      "outputs": [],
      "source": [
        "import numpy as np #para manipulacao e criacao de matrizes\n",
        "import matplotlib.pyplot as plt #para visualizacao dos dados\n",
        "import pandas as pd #para manipulacao de dados\n",
        "\n",
        "from sklearn.preprocessing import MinMaxScaler # para pre processamento de ml\n",
        "\n",
        "from keras.models import Sequential # para redes neurais\n",
        "from keras.layers import Dense\n",
        "from keras.layers import LSTM\n",
        "from keras.layers import Dropout\n",
        "\n",
        "import os # para criacao e manipulacao de pastas\n",
        "from keras.models import load_model #para salvar modelos do keras\n"
      ]
    },
    {
      "cell_type": "markdown",
      "metadata": {
        "id": "Va76O8i9jutR"
      },
      "source": [
        "# Obtendo o dataset"
      ]
    },
    {
      "cell_type": "code",
      "execution_count": null,
      "metadata": {
        "id": "8aQCfXkviNkJ"
      },
      "outputs": [],
      "source": [
        "df = pd.read_csv('https://gist.githubusercontent.com/batestin1/b8f7c0a26c9669013ba451c18e381d75/raw/e355693a14880cd8dbe2bee26a52dafdc9aaabec/gistfile1.txt')\n"
      ]
    },
    {
      "cell_type": "markdown",
      "metadata": {
        "id": "xnAlaoobjyF-"
      },
      "source": [
        "#### Conhecendo o dataset"
      ]
    },
    {
      "cell_type": "code",
      "execution_count": null,
      "metadata": {
        "id": "FdujZpjZiVNv"
      },
      "outputs": [],
      "source": [
        "df.info() #visualizando as informacoes do dataset"
      ]
    },
    {
      "cell_type": "markdown",
      "metadata": {
        "id": "jUZsYfzsj1kH"
      },
      "source": [
        "# Pre Processamento ML"
      ]
    },
    {
      "cell_type": "code",
      "execution_count": null,
      "metadata": {
        "id": "IS08AeXSidWi"
      },
      "outputs": [],
      "source": [
        "# padronizando os dados com o Min e Max\n",
        "training_set = df.iloc[:, 1:2].values\n",
        "\n",
        "sc = MinMaxScaler(feature_range = (0, 1))\n",
        "training_set_scaled = sc.fit_transform(training_set)\n",
        "\n"
      ]
    },
    {
      "cell_type": "code",
      "execution_count": null,
      "metadata": {
        "id": "UvbynrOrkMTC"
      },
      "outputs": [],
      "source": [
        "#Estruturas de dados com 60 intervalos\n",
        "X_train = []\n",
        "y_train = []\n",
        "for i in range(60, 1258):\n",
        "    X_train.append(training_set_scaled[i-60:i, 0])\n",
        "    y_train.append(training_set_scaled[i, 0])\n",
        "X_train, y_train = np.array(X_train), np.array(y_train)"
      ]
    },
    {
      "cell_type": "code",
      "execution_count": null,
      "metadata": {
        "id": "NL28x3kUkS-q"
      },
      "outputs": [],
      "source": [
        "# Ajustar Formato\n",
        "X_train = np.reshape(X_train, (X_train.shape[0], X_train.shape[1], 1))"
      ]
    },
    {
      "cell_type": "markdown",
      "metadata": {
        "id": "g2cwlr8ikTgd"
      },
      "source": [
        "# Construindo nossa RNN"
      ]
    },
    {
      "cell_type": "code",
      "execution_count": null,
      "metadata": {
        "id": "wGA5sD15kVHA"
      },
      "outputs": [],
      "source": [
        "#Inicializando a RNA\n",
        "regressor = Sequential()\n",
        "#Criando as camadas\n",
        "regressor.add(LSTM(units = 50, return_sequences = True, input_shape = (X_train.shape[1], 1)))\n",
        "regressor.add(Dropout(0.2))\n",
        "regressor.add(LSTM(units = 50, return_sequences = True))\n",
        "regressor.add(Dropout(0.2))\n",
        "regressor.add(LSTM(units = 50, return_sequences = True))\n",
        "regressor.add(Dropout(0.2))\n",
        "regressor.add(LSTM(units = 50))\n",
        "regressor.add(Dropout(0.2))\n",
        "regressor.add(Dense(units = 1))"
      ]
    },
    {
      "cell_type": "code",
      "execution_count": null,
      "metadata": {
        "id": "6Pp8fjiBkcWF"
      },
      "outputs": [],
      "source": [
        "#Inicializando a RNA\n",
        "regressor = Sequential()\n",
        "#Criando as camadas\n",
        "regressor.add(LSTM(units = 50, return_sequences = True, input_shape = (X_train.shape[1], 1)))\n",
        "regressor.add(Dropout(0.2))\n",
        "regressor.add(LSTM(units = 50, return_sequences = True))\n",
        "regressor.add(Dropout(0.2))\n",
        "regressor.add(LSTM(units = 50, return_sequences = True))\n",
        "regressor.add(Dropout(0.2))\n",
        "regressor.add(LSTM(units = 50))\n",
        "regressor.add(Dropout(0.2))\n",
        "regressor.add(Dense(units = 1))"
      ]
    },
    {
      "cell_type": "markdown",
      "metadata": {
        "id": "K7WovfBKkl8d"
      },
      "source": [
        "# Salvando o modelo"
      ]
    },
    {
      "cell_type": "code",
      "execution_count": null,
      "metadata": {
        "id": "Joe_KgcJknEK"
      },
      "outputs": [],
      "source": [
        "folder = 'rnm/'\n",
        "\n",
        "# Verifica se o diretório existe e, se não existir, cria o diretório\n",
        "if not os.path.exists(folder):\n",
        "    os.makedirs(folder)\n",
        "\n",
        "# Salva o modelo no diretório especificado\n",
        "regressor.save(os.path.join(folder, 'rede_neural_recorrente.h5'))"
      ]
    },
    {
      "cell_type": "markdown",
      "metadata": {
        "id": "ndHrOSQNkvjR"
      },
      "source": [
        "# Importando o modelo"
      ]
    },
    {
      "cell_type": "code",
      "execution_count": null,
      "metadata": {
        "id": "xkWkm6LDlZMp"
      },
      "outputs": [],
      "source": [
        "model = load_model(os.path.join(folder, 'rede_neural_recorrente.h5'))"
      ]
    },
    {
      "cell_type": "code",
      "execution_count": null,
      "metadata": {
        "id": "vJMnAY2xk0bB"
      },
      "outputs": [],
      "source": [
        "df_real = pd.read_csv('https://gist.githubusercontent.com/batestin1/876e82c27509f2963115432a10c25512/raw/cf9a54436f3936a1b2b15b7a852e0468fc5b8be6/gistfile1.txt')\n",
        "real_stock_price = df_real.iloc[:, 1:2].values"
      ]
    },
    {
      "cell_type": "code",
      "execution_count": null,
      "metadata": {
        "id": "m-HFLCwOlNcE"
      },
      "outputs": [],
      "source": [
        "#Obtendo os dados previstos\n",
        "dataset_total = pd.concat((df['Open'], df_real['Open']), axis = 0)\n",
        "inputs = dataset_total[len(dataset_total) - len(df_real) - 60:].values\n",
        "inputs = inputs.reshape(-1,1)\n",
        "inputs = sc.transform(inputs)\n",
        "X_test = []\n",
        "for i in range(60, 80):\n",
        "    X_test.append(inputs[i-60:i, 0])\n",
        "X_test = np.array(X_test)\n",
        "X_test = np.reshape(X_test, (X_test.shape[0], X_test.shape[1], 1))\n",
        "predicted_stock_price = model.predict(X_test)\n",
        "predicted_stock_price = sc.inverse_transform(predicted_stock_price)"
      ]
    },
    {
      "cell_type": "markdown",
      "metadata": {
        "id": "fYvzeQatlerr"
      },
      "source": [
        "# Visualizando o Resultado"
      ]
    },
    {
      "cell_type": "code",
      "execution_count": null,
      "metadata": {
        "id": "EDB_zKaulg2y"
      },
      "outputs": [],
      "source": [
        "plt.plot(real_stock_price, color = 'red', label = 'Dados Reais de Ações do Google')\n",
        "plt.plot(predicted_stock_price, color = 'blue', label = 'Dados Previstos de Ações do Google')\n",
        "plt.title('Previsão de Preços de Ações')\n",
        "plt.xlabel('Tempo')\n",
        "plt.ylabel('Preços de Ações do Google')\n",
        "plt.legend()\n",
        "plt.show()"
      ]
    }
  ],
  "metadata": {
    "colab": {
      "provenance": []
    },
    "kernelspec": {
      "display_name": "Python 3",
      "name": "python3"
    },
    "language_info": {
      "name": "python"
    }
  },
  "nbformat": 4,
  "nbformat_minor": 0
}
