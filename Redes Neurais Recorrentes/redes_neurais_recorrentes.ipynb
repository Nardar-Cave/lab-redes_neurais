{
  "nbformat": 4,
  "nbformat_minor": 0,
  "metadata": {
    "colab": {
      "provenance": []
    },
    "kernelspec": {
      "name": "python3",
      "display_name": "Python 3"
    },
    "language_info": {
      "name": "python"
    }
  },
  "cells": [
    {
      "cell_type": "markdown",
      "source": [
        "# Redes Neurais Recorrentes"
      ],
      "metadata": {
        "id": "A-h53Z50hj0-"
      }
    },
    {
      "cell_type": "markdown",
      "source": [
        "### Descriçao\n",
        "\n",
        "---\n",
        "1. O objetivo deste notebook é construir uma Rede Neural Recorrente.\n",
        "2. Utilizaremos o conjunto de dados proposto no [gist](https://gist.githubusercontent.com/batestin1/b8f7c0a26c9669013ba451c18e381d75/raw/e355693a14880cd8dbe2bee26a52dafdc9aaabec/gistfile1.txt\n",
        "\n",
        "3. O problema consiste em prever as ações temporais do preço da Google na bolsa de valores\n",
        "---"
      ],
      "metadata": {
        "id": "PJB3tpd7hok1"
      }
    },
    {
      "cell_type": "markdown",
      "source": [
        "### Dicionário\n",
        "\n",
        "\n",
        "Fields\t                                                  | Type  \t  |    Description                              |\n",
        "----------------------------------------------------------|:---------:|:-------------------------------------------:|\n",
        "Date \t  \t\t\t\t\t\t\t\t\t\t  \t  |string     | Data da alteração |\n",
        "Open\t\t\t\t\t\t\t\t\t\t\t\t\t\t  |float    | preço da abertura                        |\n",
        "High\t\t     \t\t\t\t\t\t\t\t\t\t  |float     | preço mais alto no dia\t               |\n",
        "Low | float | preco mais baixo no dia\n",
        "Close | float | preco de fechamento\n",
        "Volume | float | Volume total do dia\n",
        "  "
      ],
      "metadata": {
        "id": "YVo2gtjgiLoY"
      }
    },
    {
      "cell_type": "markdown",
      "source": [
        "# Instalação dos pacotes"
      ],
      "metadata": {
        "id": "6Lt6i3j5i_xV"
      }
    },
    {
      "cell_type": "code",
      "source": [
        "!pip install pandas numpy scikit-learn keras matplotlib"
      ],
      "metadata": {
        "id": "zf-NZ28kjAms"
      },
      "execution_count": null,
      "outputs": []
    },
    {
      "cell_type": "markdown",
      "source": [
        "# Documentação\n",
        "\n",
        "1. ** Pandas ** -> [Link](https://pandas.pydata.org/docs/)\n",
        "2. ** Numpy ** -> [Link](https://numpy.org/doc/)\n",
        "4. ** Scikit Learn ** -> [Link](https://scikit-learn.org/stable/)\n",
        "5. ** Keras ** -> [Link](https://keras.io/api/)\n",
        "6. ** Tensor Flow ** -> [Tensor Flow](https://www.tensorflow.org/api_docs/python/tf/keras)\n",
        "\n"
      ],
      "metadata": {
        "id": "4YpmKO3YjDFB"
      }
    },
    {
      "cell_type": "markdown",
      "source": [
        "# Instalando as bibliotecas"
      ],
      "metadata": {
        "id": "d11LZE2kjFJ0"
      }
    },
    {
      "cell_type": "code",
      "source": [
        "import numpy as np #para manipulacao e criacao de matrizes\n",
        "import matplotlib.pyplot as plt #para visualizacao dos dados\n",
        "import pandas as pd #para manipulacao de dados\n",
        "\n",
        "from sklearn.preprocessing import MinMaxScaler # para pre processamento de ml\n",
        "\n",
        "from keras.models import Sequential # para redes neurais\n",
        "from keras.layers import Dense\n",
        "from keras.layers import LSTM\n",
        "from keras.layers import Dropout\n",
        "\n",
        "import os # para criacao e manipulacao de pastas\n",
        "from keras.models import load_model #para salvar modelos do keras\n"
      ],
      "metadata": {
        "id": "dL4RVruphx5x"
      },
      "execution_count": null,
      "outputs": []
    },
    {
      "cell_type": "markdown",
      "source": [
        "# Obtendo o dataset"
      ],
      "metadata": {
        "id": "Va76O8i9jutR"
      }
    },
    {
      "cell_type": "code",
      "source": [
        "df = pd.read_csv('https://gist.githubusercontent.com/batestin1/b8f7c0a26c9669013ba451c18e381d75/raw/e355693a14880cd8dbe2bee26a52dafdc9aaabec/gistfile1.txt')\n"
      ],
      "metadata": {
        "id": "8aQCfXkviNkJ"
      },
      "execution_count": null,
      "outputs": []
    },
    {
      "cell_type": "markdown",
      "source": [
        "#### Conhecendo o dataset"
      ],
      "metadata": {
        "id": "xnAlaoobjyF-"
      }
    },
    {
      "cell_type": "code",
      "source": [
        "df.info()"
      ],
      "metadata": {
        "id": "FdujZpjZiVNv"
      },
      "execution_count": null,
      "outputs": []
    },
    {
      "cell_type": "markdown",
      "source": [
        "# Pre Processamento ML"
      ],
      "metadata": {
        "id": "jUZsYfzsj1kH"
      }
    },
    {
      "cell_type": "code",
      "source": [
        "# padronizando os dados com o Min e Max\n",
        "training_set = df.iloc[:, 1:2].values\n",
        "\n",
        "sc = MinMaxScaler(feature_range = (0, 1))\n",
        "training_set_scaled = sc.fit_transform(training_set)\n",
        "\n"
      ],
      "metadata": {
        "id": "IS08AeXSidWi"
      },
      "execution_count": null,
      "outputs": []
    },
    {
      "cell_type": "code",
      "source": [
        "#Estruturas de dados com 60 intervalos\n",
        "X_train = []\n",
        "y_train = []\n",
        "for i in range(60, 1258):\n",
        "    X_train.append(training_set_scaled[i-60:i, 0])\n",
        "    y_train.append(training_set_scaled[i, 0])\n",
        "X_train, y_train = np.array(X_train), np.array(y_train)"
      ],
      "metadata": {
        "id": "UvbynrOrkMTC"
      },
      "execution_count": null,
      "outputs": []
    },
    {
      "cell_type": "code",
      "source": [
        "# Ajustar Formato\n",
        "X_train = np.reshape(X_train, (X_train.shape[0], X_train.shape[1], 1))"
      ],
      "metadata": {
        "id": "NL28x3kUkS-q"
      },
      "execution_count": null,
      "outputs": []
    },
    {
      "cell_type": "markdown",
      "source": [
        "# Construindo nossa RNN"
      ],
      "metadata": {
        "id": "g2cwlr8ikTgd"
      }
    },
    {
      "cell_type": "code",
      "source": [
        "#Inicializando a RNA\n",
        "regressor = Sequential()\n",
        "#Criando as camadas\n",
        "regressor.add(LSTM(units = 50, return_sequences = True, input_shape = (X_train.shape[1], 1)))\n",
        "regressor.add(Dropout(0.2))\n",
        "regressor.add(LSTM(units = 50, return_sequences = True))\n",
        "regressor.add(Dropout(0.2))\n",
        "regressor.add(LSTM(units = 50, return_sequences = True))\n",
        "regressor.add(Dropout(0.2))\n",
        "regressor.add(LSTM(units = 50))\n",
        "regressor.add(Dropout(0.2))\n",
        "regressor.add(Dense(units = 1))"
      ],
      "metadata": {
        "id": "wGA5sD15kVHA"
      },
      "execution_count": null,
      "outputs": []
    },
    {
      "cell_type": "code",
      "source": [
        "#Inicializando a RNA\n",
        "regressor = Sequential()\n",
        "#Criando as camadas\n",
        "regressor.add(LSTM(units = 50, return_sequences = True, input_shape = (X_train.shape[1], 1)))\n",
        "regressor.add(Dropout(0.2))\n",
        "regressor.add(LSTM(units = 50, return_sequences = True))\n",
        "regressor.add(Dropout(0.2))\n",
        "regressor.add(LSTM(units = 50, return_sequences = True))\n",
        "regressor.add(Dropout(0.2))\n",
        "regressor.add(LSTM(units = 50))\n",
        "regressor.add(Dropout(0.2))\n",
        "regressor.add(Dense(units = 1))"
      ],
      "metadata": {
        "id": "6Pp8fjiBkcWF"
      },
      "execution_count": null,
      "outputs": []
    },
    {
      "cell_type": "markdown",
      "source": [
        "# Salvando o modelo"
      ],
      "metadata": {
        "id": "K7WovfBKkl8d"
      }
    },
    {
      "cell_type": "code",
      "source": [
        "folder = 'rnm/'\n",
        "\n",
        "# Verifica se o diretório existe e, se não existir, cria o diretório\n",
        "if not os.path.exists(folder):\n",
        "    os.makedirs(folder)\n",
        "\n",
        "# Salva o modelo no diretório especificado\n",
        "regressor.save(os.path.join(folder, 'rede_neural_recorrente.h5'))"
      ],
      "metadata": {
        "id": "Joe_KgcJknEK"
      },
      "execution_count": null,
      "outputs": []
    },
    {
      "cell_type": "markdown",
      "source": [
        "# Importando o modelo"
      ],
      "metadata": {
        "id": "ndHrOSQNkvjR"
      }
    },
    {
      "cell_type": "code",
      "source": [
        "model = load_model(os.path.join(folder, 'rede_neural_recorrente.h5'))"
      ],
      "metadata": {
        "id": "xkWkm6LDlZMp"
      },
      "execution_count": null,
      "outputs": []
    },
    {
      "cell_type": "code",
      "source": [
        "df_real = pd.read_csv('https://gist.githubusercontent.com/batestin1/876e82c27509f2963115432a10c25512/raw/cf9a54436f3936a1b2b15b7a852e0468fc5b8be6/gistfile1.txt')\n",
        "real_stock_price = df_real.iloc[:, 1:2].values"
      ],
      "metadata": {
        "id": "vJMnAY2xk0bB"
      },
      "execution_count": null,
      "outputs": []
    },
    {
      "cell_type": "code",
      "source": [
        "#Obtendo os dados previstos\n",
        "dataset_total = pd.concat((df['Open'], df_real['Open']), axis = 0)\n",
        "inputs = dataset_total[len(dataset_total) - len(df_real) - 60:].values\n",
        "inputs = inputs.reshape(-1,1)\n",
        "inputs = sc.transform(inputs)\n",
        "X_test = []\n",
        "for i in range(60, 80):\n",
        "    X_test.append(inputs[i-60:i, 0])\n",
        "X_test = np.array(X_test)\n",
        "X_test = np.reshape(X_test, (X_test.shape[0], X_test.shape[1], 1))\n",
        "predicted_stock_price = model.predict(X_test)\n",
        "predicted_stock_price = sc.inverse_transform(predicted_stock_price)"
      ],
      "metadata": {
        "id": "m-HFLCwOlNcE"
      },
      "execution_count": null,
      "outputs": []
    },
    {
      "cell_type": "markdown",
      "source": [
        "# Visualizando o Resultado"
      ],
      "metadata": {
        "id": "fYvzeQatlerr"
      }
    },
    {
      "cell_type": "code",
      "source": [
        "plt.plot(real_stock_price, color = 'red', label = 'Dados Reais de Ações do Google')\n",
        "plt.plot(predicted_stock_price, color = 'blue', label = 'Dados Previstos de Ações do Google')\n",
        "plt.title('Previsão de Preços de Ações')\n",
        "plt.xlabel('Tempo')\n",
        "plt.ylabel('Preços de Ações do Google')\n",
        "plt.legend()\n",
        "plt.show()"
      ],
      "metadata": {
        "id": "EDB_zKaulg2y"
      },
      "execution_count": null,
      "outputs": []
    }
  ]
}